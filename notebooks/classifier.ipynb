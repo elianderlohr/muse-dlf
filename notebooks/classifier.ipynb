{
 "cells": [
  {
   "cell_type": "code",
   "execution_count": 1,
   "metadata": {},
   "outputs": [
    {
     "name": "stderr",
     "output_type": "stream",
     "text": [
      "C:\\Users\\elias\\AppData\\Local\\Packages\\PythonSoftwareFoundation.Python.3.10_qbz5n2kfra8p0\\LocalCache\\local-packages\\Python310\\site-packages\\scipy\\__init__.py:146: UserWarning: A NumPy version >=1.17.3 and <1.25.0 is required for this version of SciPy (detected version 1.26.0\n",
      "  warnings.warn(f\"A NumPy version >={np_minversion} and <{np_maxversion}\"\n"
     ]
    }
   ],
   "source": [
    "import pandas as pd\n",
    "from sklearn.preprocessing import MultiLabelBinarizer\n",
    "from sklearn.model_selection import train_test_split\n",
    "import tensorflow as tf\n",
    "from tensorflow import keras\n",
    "from tensorflow.keras.models import Sequential\n",
    "from tensorflow.keras.layers import Dense, Dropout"
   ]
  },
  {
   "cell_type": "code",
   "execution_count": 3,
   "metadata": {},
   "outputs": [
    {
     "data": {
      "text/html": [
       "<div>\n",
       "<style scoped>\n",
       "    .dataframe tbody tr th:only-of-type {\n",
       "        vertical-align: middle;\n",
       "    }\n",
       "\n",
       "    .dataframe tbody tr th {\n",
       "        vertical-align: top;\n",
       "    }\n",
       "\n",
       "    .dataframe thead th {\n",
       "        text-align: right;\n",
       "    }\n",
       "</style>\n",
       "<table border=\"1\" class=\"dataframe\">\n",
       "  <thead>\n",
       "    <tr style=\"text-align: right;\">\n",
       "      <th></th>\n",
       "      <th>article_id</th>\n",
       "      <th>('absorbent', 'nonabsorbent')</th>\n",
       "      <th>('atypical', 'typical')</th>\n",
       "      <th>('born', 'unborn')</th>\n",
       "      <th>('broad-minded', 'narrow-minded')</th>\n",
       "      <th>('inspiring', 'uninspiring')</th>\n",
       "      <th>('jawed', 'jawless')</th>\n",
       "      <th>('made', 'unmade')</th>\n",
       "      <th>('negative', 'positive')</th>\n",
       "      <th>('pointed', 'pointless')</th>\n",
       "      <th>('scrupulous', 'unscrupulous')</th>\n",
       "      <th>frames</th>\n",
       "    </tr>\n",
       "  </thead>\n",
       "  <tbody>\n",
       "    <tr>\n",
       "      <th>0</th>\n",
       "      <td>813452859</td>\n",
       "      <td>0.080125</td>\n",
       "      <td>0.015796</td>\n",
       "      <td>-0.091310</td>\n",
       "      <td>0.022744</td>\n",
       "      <td>-0.070299</td>\n",
       "      <td>0.082165</td>\n",
       "      <td>-0.090066</td>\n",
       "      <td>-0.033324</td>\n",
       "      <td>0.056182</td>\n",
       "      <td>-0.122622</td>\n",
       "      <td>Political,External_regulation_and_reputation,P...</td>\n",
       "    </tr>\n",
       "    <tr>\n",
       "      <th>1</th>\n",
       "      <td>813494037</td>\n",
       "      <td>0.074769</td>\n",
       "      <td>0.024556</td>\n",
       "      <td>-0.083949</td>\n",
       "      <td>0.022723</td>\n",
       "      <td>-0.080870</td>\n",
       "      <td>0.076549</td>\n",
       "      <td>-0.082030</td>\n",
       "      <td>-0.036595</td>\n",
       "      <td>0.055352</td>\n",
       "      <td>-0.118175</td>\n",
       "      <td>Political,Crime_and_punishment,External_regula...</td>\n",
       "    </tr>\n",
       "    <tr>\n",
       "      <th>2</th>\n",
       "      <td>813547724</td>\n",
       "      <td>0.084561</td>\n",
       "      <td>0.007195</td>\n",
       "      <td>-0.087211</td>\n",
       "      <td>0.011782</td>\n",
       "      <td>-0.078827</td>\n",
       "      <td>0.083936</td>\n",
       "      <td>-0.094876</td>\n",
       "      <td>-0.032868</td>\n",
       "      <td>0.055550</td>\n",
       "      <td>-0.116927</td>\n",
       "      <td>Political,Quality_of_life,External_regulation_...</td>\n",
       "    </tr>\n",
       "    <tr>\n",
       "      <th>3</th>\n",
       "      <td>813552066</td>\n",
       "      <td>0.080229</td>\n",
       "      <td>0.019845</td>\n",
       "      <td>-0.095069</td>\n",
       "      <td>0.016930</td>\n",
       "      <td>-0.075646</td>\n",
       "      <td>0.080472</td>\n",
       "      <td>-0.088424</td>\n",
       "      <td>-0.026648</td>\n",
       "      <td>0.064943</td>\n",
       "      <td>-0.124149</td>\n",
       "      <td>Public_opinion,Policy_prescription_and_evaluat...</td>\n",
       "    </tr>\n",
       "    <tr>\n",
       "      <th>4</th>\n",
       "      <td>813601978</td>\n",
       "      <td>0.068588</td>\n",
       "      <td>0.026880</td>\n",
       "      <td>-0.090958</td>\n",
       "      <td>0.022179</td>\n",
       "      <td>-0.074495</td>\n",
       "      <td>0.081351</td>\n",
       "      <td>-0.082409</td>\n",
       "      <td>-0.025719</td>\n",
       "      <td>0.052067</td>\n",
       "      <td>-0.112090</td>\n",
       "      <td>Political,Morality,Cultural_identity,Crime_and...</td>\n",
       "    </tr>\n",
       "  </tbody>\n",
       "</table>\n",
       "</div>"
      ],
      "text/plain": [
       "   article_id  ('absorbent', 'nonabsorbent')  ('atypical', 'typical')  \\\n",
       "0   813452859                       0.080125                 0.015796   \n",
       "1   813494037                       0.074769                 0.024556   \n",
       "2   813547724                       0.084561                 0.007195   \n",
       "3   813552066                       0.080229                 0.019845   \n",
       "4   813601978                       0.068588                 0.026880   \n",
       "\n",
       "   ('born', 'unborn')  ('broad-minded', 'narrow-minded')  \\\n",
       "0           -0.091310                           0.022744   \n",
       "1           -0.083949                           0.022723   \n",
       "2           -0.087211                           0.011782   \n",
       "3           -0.095069                           0.016930   \n",
       "4           -0.090958                           0.022179   \n",
       "\n",
       "   ('inspiring', 'uninspiring')  ('jawed', 'jawless')  ('made', 'unmade')  \\\n",
       "0                     -0.070299              0.082165           -0.090066   \n",
       "1                     -0.080870              0.076549           -0.082030   \n",
       "2                     -0.078827              0.083936           -0.094876   \n",
       "3                     -0.075646              0.080472           -0.088424   \n",
       "4                     -0.074495              0.081351           -0.082409   \n",
       "\n",
       "   ('negative', 'positive')  ('pointed', 'pointless')  \\\n",
       "0                 -0.033324                  0.056182   \n",
       "1                 -0.036595                  0.055352   \n",
       "2                 -0.032868                  0.055550   \n",
       "3                 -0.026648                  0.064943   \n",
       "4                 -0.025719                  0.052067   \n",
       "\n",
       "   ('scrupulous', 'unscrupulous')  \\\n",
       "0                       -0.122622   \n",
       "1                       -0.118175   \n",
       "2                       -0.116927   \n",
       "3                       -0.124149   \n",
       "4                       -0.112090   \n",
       "\n",
       "                                              frames  \n",
       "0  Political,External_regulation_and_reputation,P...  \n",
       "1  Political,Crime_and_punishment,External_regula...  \n",
       "2  Political,Quality_of_life,External_regulation_...  \n",
       "3  Public_opinion,Policy_prescription_and_evaluat...  \n",
       "4  Political,Morality,Cultural_identity,Crime_and...  "
      ]
     },
     "execution_count": 3,
     "metadata": {},
     "output_type": "execute_result"
    }
   ],
   "source": [
    "# Load the datasets\n",
    "big_table_by_average = pd.read_csv('../frameaxis/big_table_by_average.tsv', sep='\\t')\n",
    "dev_labels = pd.read_csv('../data/data/en/dev-labels-subtask-2.txt', sep='\\t', header=None, names=['article_id', 'frames'])\n",
    "\n",
    "# Merge the datasets\n",
    "merged_data = pd.merge(big_table_by_average, dev_labels, on='article_id')\n",
    "\n",
    "merged_data.head()"
   ]
  },
  {
   "cell_type": "code",
   "execution_count": 4,
   "metadata": {},
   "outputs": [],
   "source": [
    "# Transform the frames column to binary format\n",
    "merged_data['frames'] = merged_data['frames'].str.split(',')\n",
    "mlb = MultiLabelBinarizer()\n",
    "binary_labels = mlb.fit_transform(merged_data['frames'])"
   ]
  },
  {
   "cell_type": "code",
   "execution_count": 5,
   "metadata": {},
   "outputs": [],
   "source": [
    "# Split the data into training and validation sets\n",
    "X = merged_data.drop(columns=['article_id', 'frames'])\n",
    "y = pd.DataFrame(binary_labels, columns=mlb.classes_)\n",
    "X_train, X_val, y_train, y_val = train_test_split(X, y, test_size=0.2, random_state=42)"
   ]
  },
  {
   "cell_type": "code",
   "execution_count": 6,
   "metadata": {},
   "outputs": [],
   "source": [
    "# Build the neural network model\n",
    "model = Sequential([\n",
    "    Dense(128, activation='relu', input_shape=(X_train.shape[1],)),\n",
    "    Dropout(0.5),\n",
    "    Dense(64, activation='relu'),\n",
    "    Dropout(0.5),\n",
    "    Dense(y_train.shape[1], activation='sigmoid')\n",
    "])\n",
    "\n",
    "# Compile the model\n",
    "model.compile(optimizer='adam', loss='binary_crossentropy', metrics=['accuracy'])"
   ]
  },
  {
   "cell_type": "code",
   "execution_count": 7,
   "metadata": {},
   "outputs": [
    {
     "name": "stdout",
     "output_type": "stream",
     "text": [
      "Model: \"sequential\"\n",
      "_________________________________________________________________\n",
      " Layer (type)                Output Shape              Param #   \n",
      "=================================================================\n",
      " dense (Dense)               (None, 128)               1408      \n",
      "                                                                 \n",
      " dropout (Dropout)           (None, 128)               0         \n",
      "                                                                 \n",
      " dense_1 (Dense)             (None, 64)                8256      \n",
      "                                                                 \n",
      " dropout_1 (Dropout)         (None, 64)                0         \n",
      "                                                                 \n",
      " dense_2 (Dense)             (None, 14)                910       \n",
      "                                                                 \n",
      "=================================================================\n",
      "Total params: 10,574\n",
      "Trainable params: 10,574\n",
      "Non-trainable params: 0\n",
      "_________________________________________________________________\n"
     ]
    }
   ],
   "source": [
    "model.summary()"
   ]
  },
  {
   "cell_type": "code",
   "execution_count": 8,
   "metadata": {},
   "outputs": [
    {
     "name": "stdout",
     "output_type": "stream",
     "text": [
      "Epoch 1/20\n",
      "2/2 [==============================] - 1s 145ms/step - loss: 0.6956 - accuracy: 0.0000e+00 - val_loss: 0.6943 - val_accuracy: 0.0000e+00\n",
      "Epoch 2/20\n",
      "2/2 [==============================] - 0s 21ms/step - loss: 0.6933 - accuracy: 0.0294 - val_loss: 0.6923 - val_accuracy: 0.0000e+00\n",
      "Epoch 3/20\n",
      "2/2 [==============================] - 0s 22ms/step - loss: 0.6904 - accuracy: 0.0294 - val_loss: 0.6903 - val_accuracy: 0.0000e+00\n",
      "Epoch 4/20\n",
      "2/2 [==============================] - 0s 21ms/step - loss: 0.6883 - accuracy: 0.0000e+00 - val_loss: 0.6885 - val_accuracy: 0.0000e+00\n",
      "Epoch 5/20\n",
      "2/2 [==============================] - 0s 19ms/step - loss: 0.6858 - accuracy: 0.0294 - val_loss: 0.6868 - val_accuracy: 0.0000e+00\n",
      "Epoch 6/20\n",
      "2/2 [==============================] - 0s 20ms/step - loss: 0.6834 - accuracy: 0.0294 - val_loss: 0.6853 - val_accuracy: 0.0000e+00\n",
      "Epoch 7/20\n",
      "2/2 [==============================] - 0s 26ms/step - loss: 0.6792 - accuracy: 0.0588 - val_loss: 0.6837 - val_accuracy: 0.0000e+00\n",
      "Epoch 8/20\n",
      "2/2 [==============================] - 0s 23ms/step - loss: 0.6771 - accuracy: 0.0294 - val_loss: 0.6820 - val_accuracy: 0.0000e+00\n",
      "Epoch 9/20\n",
      "2/2 [==============================] - 0s 16ms/step - loss: 0.6738 - accuracy: 0.0000e+00 - val_loss: 0.6800 - val_accuracy: 0.0000e+00\n",
      "Epoch 10/20\n",
      "2/2 [==============================] - 0s 21ms/step - loss: 0.6698 - accuracy: 0.0294 - val_loss: 0.6779 - val_accuracy: 0.0000e+00\n",
      "Epoch 11/20\n",
      "2/2 [==============================] - 0s 24ms/step - loss: 0.6690 - accuracy: 0.0882 - val_loss: 0.6757 - val_accuracy: 0.0000e+00\n",
      "Epoch 12/20\n",
      "2/2 [==============================] - 0s 25ms/step - loss: 0.6643 - accuracy: 0.0294 - val_loss: 0.6731 - val_accuracy: 0.0000e+00\n",
      "Epoch 13/20\n",
      "2/2 [==============================] - 0s 23ms/step - loss: 0.6568 - accuracy: 0.0294 - val_loss: 0.6703 - val_accuracy: 0.0000e+00\n",
      "Epoch 14/20\n",
      "2/2 [==============================] - 0s 23ms/step - loss: 0.6563 - accuracy: 0.1471 - val_loss: 0.6674 - val_accuracy: 0.0000e+00\n",
      "Epoch 15/20\n",
      "2/2 [==============================] - 0s 21ms/step - loss: 0.6513 - accuracy: 0.0882 - val_loss: 0.6644 - val_accuracy: 0.0000e+00\n",
      "Epoch 16/20\n",
      "2/2 [==============================] - 0s 21ms/step - loss: 0.6513 - accuracy: 0.0294 - val_loss: 0.6611 - val_accuracy: 0.0000e+00\n",
      "Epoch 17/20\n",
      "2/2 [==============================] - 0s 20ms/step - loss: 0.6438 - accuracy: 0.0882 - val_loss: 0.6577 - val_accuracy: 0.0000e+00\n",
      "Epoch 18/20\n",
      "2/2 [==============================] - 0s 20ms/step - loss: 0.6378 - accuracy: 0.0882 - val_loss: 0.6541 - val_accuracy: 0.0000e+00\n",
      "Epoch 19/20\n",
      "2/2 [==============================] - 0s 17ms/step - loss: 0.6320 - accuracy: 0.0294 - val_loss: 0.6502 - val_accuracy: 0.0000e+00\n",
      "Epoch 20/20\n",
      "2/2 [==============================] - 0s 22ms/step - loss: 0.6249 - accuracy: 0.0588 - val_loss: 0.6460 - val_accuracy: 0.0000e+00\n"
     ]
    },
    {
     "data": {
      "text/plain": [
       "<keras.callbacks.History at 0x29f51dcf7c0>"
      ]
     },
     "execution_count": 8,
     "metadata": {},
     "output_type": "execute_result"
    }
   ],
   "source": [
    "# Train the model\n",
    "model.fit(X_train, y_train, validation_data=(X_val, y_val), epochs=20, batch_size=32)"
   ]
  },
  {
   "cell_type": "code",
   "execution_count": null,
   "metadata": {},
   "outputs": [],
   "source": []
  }
 ],
 "metadata": {
  "kernelspec": {
   "display_name": "Python 3",
   "language": "python",
   "name": "python3"
  },
  "language_info": {
   "codemirror_mode": {
    "name": "ipython",
    "version": 3
   },
   "file_extension": ".py",
   "mimetype": "text/x-python",
   "name": "python",
   "nbconvert_exporter": "python",
   "pygments_lexer": "ipython3",
   "version": "3.10.11"
  },
  "orig_nbformat": 4
 },
 "nbformat": 4,
 "nbformat_minor": 2
}
