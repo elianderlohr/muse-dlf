{
 "cells": [
  {
   "cell_type": "code",
   "execution_count": 30,
   "metadata": {},
   "outputs": [
    {
     "name": "stdout",
     "output_type": "stream",
     "text": [
      "Requirement already satisfied: seaborn in c:\\users\\elias\\anaconda3\\envs\\nlp\\lib\\site-packages (0.12.2)\n",
      "Requirement already satisfied: numpy!=1.24.0,>=1.17 in c:\\users\\elias\\anaconda3\\envs\\nlp\\lib\\site-packages (from seaborn) (1.24.3)\n",
      "Requirement already satisfied: pandas>=0.25 in c:\\users\\elias\\anaconda3\\envs\\nlp\\lib\\site-packages (from seaborn) (2.1.0)\n",
      "Requirement already satisfied: matplotlib!=3.6.1,>=3.1 in c:\\users\\elias\\anaconda3\\envs\\nlp\\lib\\site-packages (from seaborn) (3.8.0)\n",
      "Requirement already satisfied: contourpy>=1.0.1 in c:\\users\\elias\\anaconda3\\envs\\nlp\\lib\\site-packages (from matplotlib!=3.6.1,>=3.1->seaborn) (1.1.1)\n",
      "Requirement already satisfied: cycler>=0.10 in c:\\users\\elias\\anaconda3\\envs\\nlp\\lib\\site-packages (from matplotlib!=3.6.1,>=3.1->seaborn) (0.11.0)\n",
      "Requirement already satisfied: fonttools>=4.22.0 in c:\\users\\elias\\anaconda3\\envs\\nlp\\lib\\site-packages (from matplotlib!=3.6.1,>=3.1->seaborn) (4.42.1)\n",
      "Requirement already satisfied: kiwisolver>=1.0.1 in c:\\users\\elias\\anaconda3\\envs\\nlp\\lib\\site-packages (from matplotlib!=3.6.1,>=3.1->seaborn) (1.4.5)\n",
      "Requirement already satisfied: packaging>=20.0 in c:\\users\\elias\\anaconda3\\envs\\nlp\\lib\\site-packages (from matplotlib!=3.6.1,>=3.1->seaborn) (23.1)\n",
      "Requirement already satisfied: pillow>=6.2.0 in c:\\users\\elias\\anaconda3\\envs\\nlp\\lib\\site-packages (from matplotlib!=3.6.1,>=3.1->seaborn) (10.0.1)\n",
      "Requirement already satisfied: pyparsing>=2.3.1 in c:\\users\\elias\\anaconda3\\envs\\nlp\\lib\\site-packages (from matplotlib!=3.6.1,>=3.1->seaborn) (3.1.1)\n",
      "Requirement already satisfied: python-dateutil>=2.7 in c:\\users\\elias\\anaconda3\\envs\\nlp\\lib\\site-packages (from matplotlib!=3.6.1,>=3.1->seaborn) (2.8.2)\n",
      "Requirement already satisfied: pytz>=2020.1 in c:\\users\\elias\\anaconda3\\envs\\nlp\\lib\\site-packages (from pandas>=0.25->seaborn) (2023.3.post1)\n",
      "Requirement already satisfied: tzdata>=2022.1 in c:\\users\\elias\\anaconda3\\envs\\nlp\\lib\\site-packages (from pandas>=0.25->seaborn) (2023.3)\n",
      "Requirement already satisfied: six>=1.5 in c:\\users\\elias\\anaconda3\\envs\\nlp\\lib\\site-packages (from python-dateutil>=2.7->matplotlib!=3.6.1,>=3.1->seaborn) (1.16.0)\n",
      "Note: you may need to restart the kernel to use updated packages.\n"
     ]
    }
   ],
   "source": [
    "pip install seaborn"
   ]
  },
  {
   "cell_type": "code",
   "execution_count": 31,
   "metadata": {},
   "outputs": [],
   "source": [
    "import pandas as pd\n",
    "import seaborn as sns"
   ]
  },
  {
   "cell_type": "code",
   "execution_count": 32,
   "metadata": {},
   "outputs": [
    {
     "name": "stdout",
     "output_type": "stream",
     "text": [
      "../data/data/en\\dev-articles-subtask-1: 83 files\n",
      "../data/data/en\\dev-articles-subtask-2: 83 files\n",
      "../data/data/en\\dev-articles-subtask-3: 90 files\n",
      "../data/data/en\\dev-labels-subtask-3: 180 files\n",
      "../data/data/en\\dev-labels-subtask-3-spans: 90 files\n",
      "../data/data/en\\test-articles-subtask-1: 54 files\n",
      "../data/data/en\\test-articles-subtask-2: 54 files\n",
      "../data/data/en\\test-articles-subtask-3: 54 files\n",
      "../data/data/en\\train-articles-subtask-1: 433 files\n",
      "../data/data/en\\train-articles-subtask-2: 433 files\n",
      "../data/data/en\\train-articles-subtask-3: 447 files\n",
      "../data/data/en\\train-labels-subtask-3: 892 files\n",
      "../data/data/en\\train-labels-subtask-3-spans: 446 files\n"
     ]
    },
    {
     "data": {
      "text/plain": [
       "3339"
      ]
     },
     "execution_count": 32,
     "metadata": {},
     "output_type": "execute_result"
    }
   ],
   "source": [
    "import os\n",
    "\n",
    "def count_files(path):\n",
    "    count = 0\n",
    "    for folder, subfolders, files in os.walk(path):\n",
    "        for subfolder in subfolders:\n",
    "            subfolder_path = os.path.join(folder, subfolder)\n",
    "            file_count = len(os.listdir(subfolder_path))\n",
    "            count += file_count\n",
    "            print(f\"{subfolder_path}: {file_count} files\")\n",
    "    return count\n",
    "\n",
    "count_files('../data/data/en')"
   ]
  },
  {
   "cell_type": "markdown",
   "metadata": {},
   "source": [
    "## Visualize the data for subtask 1"
   ]
  },
  {
   "cell_type": "code",
   "execution_count": 33,
   "metadata": {},
   "outputs": [],
   "source": [
    "article_id = \"111111111\""
   ]
  },
  {
   "cell_type": "code",
   "execution_count": 34,
   "metadata": {},
   "outputs": [
    {
     "name": "stdout",
     "output_type": "stream",
     "text": [
      "Next plague outbreak in Madagascar could be 'stronger': WHO\n",
      "\n",
      "['Geneva - The World Health Organisation chief on Wednesday said a deadly plague epidemic appeared to have been brought under control in Madagascar, but warned the next outbreak would likely be stronger.\\n', '\\n', '\"The next transmission could be more pronounced or stronger,\" WHO Director-General Tedros Adhanom Ghebreyesus told reporters in Geneva, insisting that \"the issue is serious.\"\\n', '\\n', 'An outbreak of both bubonic plague, which is spread by infected rats via flea bites, and pneumonic plague, spread person to person, has killed more than 200 people in the Indian Ocean island nation since August.\\n', '\\n', 'Madagascar has suffered bubonic plague outbreaks almost every year since 1980, often caused by rats fleeing forest fires.\\n', '\\n', 'The disease tends to make a comeback each hot rainy season, from September to April. On average, between 300 and 600 infections are recorded every year among a population approaching 25 million people, according to a UN estimate.\\n', '\\n', 'But Tedros voiced alarm that \"plague in Madagascar behaved in a very, very different way this year.\"\\n', '\\n', 'Cases sprang up far earlier than usual and, instead of being confined to the countryside, the disease infiltrated towns. The authorities recorded more than 2 000 cases, and Tedros said Wednesday the death toll stood at 207.\\n', '\\n', 'He also pointed to the presence of the pneumonic version, which spreads more easily and is more virulent, in the latest outbreak.\\n', '\\n', 'He praised the rapid response from WHO and Madagascar authorities that helped bring the outbreak under control, but warned that the danger was not over.\\n', '\\n', 'The larger-than-usual outbreak had helped spread the bacteria that causes the plague more widely.\\n', '\\n', 'This along with poor sanitation and vector control on Madagascar meant that \"when (the plague) comes again it starts from more stock, and the magnitude in the next transmission could be higher than the one that we saw,\" Tedros said.\\n', '\\n', '\"That means that Madagascar could be affected more, and not only that, it could even spill over into neighbouring countries and beyond,\" he warned.\\n', '\\n', 'Complicating vector control is the fact that the fleas that carry the Yersinia pestis bacteria that causes the plague have proven to be widely resistant to chemicals and insecticides.\\n', '\\n', '\"That\\'s a dangerous combination,\" Tedros said.\\n']\n"
     ]
    }
   ],
   "source": [
    "# read the article line 1 is the title, line 2 is the content\n",
    "\n",
    "def read_article(path):\n",
    "    with open(path, 'r', encoding='utf-8') as file:\n",
    "        lines = file.readlines()\n",
    "        title = lines[0]\n",
    "        content = lines[2:]\n",
    "        return title, content\n",
    "    \n",
    "title, content = read_article(f\"../data/data/en/train-articles-subtask-1/article{article_id}.txt\")\n",
    "\n",
    "print(title)\n",
    "print(content)"
   ]
  },
  {
   "cell_type": "code",
   "execution_count": 35,
   "metadata": {},
   "outputs": [
    {
     "data": {
      "text/html": [
       "<div>\n",
       "<style scoped>\n",
       "    .dataframe tbody tr th:only-of-type {\n",
       "        vertical-align: middle;\n",
       "    }\n",
       "\n",
       "    .dataframe tbody tr th {\n",
       "        vertical-align: top;\n",
       "    }\n",
       "\n",
       "    .dataframe thead th {\n",
       "        text-align: right;\n",
       "    }\n",
       "</style>\n",
       "<table border=\"1\" class=\"dataframe\">\n",
       "  <thead>\n",
       "    <tr style=\"text-align: right;\">\n",
       "      <th></th>\n",
       "      <th>article_id</th>\n",
       "      <th>label</th>\n",
       "    </tr>\n",
       "  </thead>\n",
       "  <tbody>\n",
       "    <tr>\n",
       "      <th>0</th>\n",
       "      <td>833042063</td>\n",
       "      <td>satire</td>\n",
       "    </tr>\n",
       "    <tr>\n",
       "      <th>1</th>\n",
       "      <td>832959523</td>\n",
       "      <td>satire</td>\n",
       "    </tr>\n",
       "    <tr>\n",
       "      <th>2</th>\n",
       "      <td>833039623</td>\n",
       "      <td>satire</td>\n",
       "    </tr>\n",
       "    <tr>\n",
       "      <th>3</th>\n",
       "      <td>833032367</td>\n",
       "      <td>satire</td>\n",
       "    </tr>\n",
       "    <tr>\n",
       "      <th>4</th>\n",
       "      <td>814777937</td>\n",
       "      <td>satire</td>\n",
       "    </tr>\n",
       "  </tbody>\n",
       "</table>\n",
       "</div>"
      ],
      "text/plain": [
       "   article_id   label\n",
       "0   833042063  satire\n",
       "1   832959523  satire\n",
       "2   833039623  satire\n",
       "3   833032367  satire\n",
       "4   814777937  satire"
      ]
     },
     "execution_count": 35,
     "metadata": {},
     "output_type": "execute_result"
    }
   ],
   "source": [
    "# read from the csv file /data/data/en/train-labels-subtask-1.txt the label for the article\n",
    "\n",
    "def read_task1_label(path):\n",
    "    df = pd.read_csv(path, sep='\\t', header=None)\n",
    "    df.columns = ['article_id', 'label']\n",
    "    return df\n",
    "\n",
    "task1_df = read_task1_label(f\"../data/data/en/train-labels-subtask-1.txt\")\n",
    "task1_df.head()"
   ]
  },
  {
   "cell_type": "code",
   "execution_count": 36,
   "metadata": {},
   "outputs": [
    {
     "data": {
      "text/plain": [
       "'opinion'"
      ]
     },
     "execution_count": 36,
     "metadata": {},
     "output_type": "execute_result"
    }
   ],
   "source": [
    "task1_df[task1_df['article_id'] == int(article_id)].label.values[0]"
   ]
  },
  {
   "cell_type": "markdown",
   "metadata": {},
   "source": [
    "## Visualize the data for subtask 2"
   ]
  },
  {
   "cell_type": "code",
   "execution_count": 37,
   "metadata": {},
   "outputs": [],
   "source": [
    "article_id = \"111111111\""
   ]
  },
  {
   "cell_type": "code",
   "execution_count": 86,
   "metadata": {},
   "outputs": [
    {
     "data": {
      "text/html": [
       "<div>\n",
       "<style scoped>\n",
       "    .dataframe tbody tr th:only-of-type {\n",
       "        vertical-align: middle;\n",
       "    }\n",
       "\n",
       "    .dataframe tbody tr th {\n",
       "        vertical-align: top;\n",
       "    }\n",
       "\n",
       "    .dataframe thead th {\n",
       "        text-align: right;\n",
       "    }\n",
       "</style>\n",
       "<table border=\"1\" class=\"dataframe\">\n",
       "  <thead>\n",
       "    <tr style=\"text-align: right;\">\n",
       "      <th></th>\n",
       "      <th>article_id</th>\n",
       "      <th>label</th>\n",
       "    </tr>\n",
       "  </thead>\n",
       "  <tbody>\n",
       "    <tr>\n",
       "      <th>0</th>\n",
       "      <td>833042063</td>\n",
       "      <td>Political,Morality,Fairness_and_equality,Exter...</td>\n",
       "    </tr>\n",
       "    <tr>\n",
       "      <th>1</th>\n",
       "      <td>832959523</td>\n",
       "      <td>Morality,Security_and_defense,Policy_prescript...</td>\n",
       "    </tr>\n",
       "    <tr>\n",
       "      <th>2</th>\n",
       "      <td>833039623</td>\n",
       "      <td>Political,Crime_and_punishment,External_regula...</td>\n",
       "    </tr>\n",
       "    <tr>\n",
       "      <th>3</th>\n",
       "      <td>833032367</td>\n",
       "      <td>Political,Crime_and_punishment,Fairness_and_eq...</td>\n",
       "    </tr>\n",
       "    <tr>\n",
       "      <th>4</th>\n",
       "      <td>814777937</td>\n",
       "      <td>Political,Morality,Fairness_and_equality,Exter...</td>\n",
       "    </tr>\n",
       "  </tbody>\n",
       "</table>\n",
       "</div>"
      ],
      "text/plain": [
       "   article_id                                              label\n",
       "0   833042063  Political,Morality,Fairness_and_equality,Exter...\n",
       "1   832959523  Morality,Security_and_defense,Policy_prescript...\n",
       "2   833039623  Political,Crime_and_punishment,External_regula...\n",
       "3   833032367  Political,Crime_and_punishment,Fairness_and_eq...\n",
       "4   814777937  Political,Morality,Fairness_and_equality,Exter..."
      ]
     },
     "execution_count": 86,
     "metadata": {},
     "output_type": "execute_result"
    }
   ],
   "source": [
    "# read the csv file /data/data/en/train-labels-subtask-2.txt the label for the article\n",
    "\n",
    "def read_task2_label(path):\n",
    "    df = pd.read_csv(path, sep='\\t', header=None)\n",
    "    df.columns = ['article_id', 'label']\n",
    "    return df\n",
    "\n",
    "task2_df = read_task2_label(f\"../data/data/en/train-labels-subtask-2.txt\")\n",
    "task2_df.head()"
   ]
  },
  {
   "cell_type": "code",
   "execution_count": 87,
   "metadata": {},
   "outputs": [],
   "source": [
    "# split label after ,\n",
    "task2_df['label'] = task2_df['label'].apply(lambda x: x.split(','))\n",
    "\n",
    "# get all labels and unpack list of labels\n",
    "all_labels = task2_df.label.values.tolist()\n",
    "all_labels\n",
    "\n",
    "# unpack list of lists\n",
    "for i, labels in enumerate(all_labels):\n",
    "    if type(labels) == list:\n",
    "        all_labels[i] = labels[0]"
   ]
  },
  {
   "cell_type": "code",
   "execution_count": 89,
   "metadata": {},
   "outputs": [
    {
     "data": {
      "text/plain": [
       "({'Capacity_and_resources',\n",
       "  'Crime_and_punishment',\n",
       "  'Cultural_identity',\n",
       "  'Economic',\n",
       "  'External_regulation_and_reputation',\n",
       "  'Fairness_and_equality',\n",
       "  'Health_and_safety',\n",
       "  'Morality',\n",
       "  'Policy_prescription_and_evaluation',\n",
       "  'Political',\n",
       "  'Public_opinion',\n",
       "  'Quality_of_life',\n",
       "  'Security_and_defense'},\n",
       " 13)"
      ]
     },
     "execution_count": 89,
     "metadata": {},
     "output_type": "execute_result"
    }
   ],
   "source": [
    "set(all_labels), len(set(all_labels))"
   ]
  },
  {
   "cell_type": "code",
   "execution_count": 39,
   "metadata": {},
   "outputs": [
    {
     "data": {
      "text/plain": [
       "'Health_and_safety,Quality_of_life'"
      ]
     },
     "execution_count": 39,
     "metadata": {},
     "output_type": "execute_result"
    }
   ],
   "source": [
    "# get the label for the article\n",
    "task2_df[task2_df['article_id'] == int(article_id)].iloc[0]['label']"
   ]
  },
  {
   "cell_type": "markdown",
   "metadata": {},
   "source": [
    "## Visualize the data for subtask 3"
   ]
  },
  {
   "cell_type": "code",
   "execution_count": 40,
   "metadata": {},
   "outputs": [],
   "source": [
    "article_id = \"111111111\""
   ]
  },
  {
   "cell_type": "code",
   "execution_count": 41,
   "metadata": {},
   "outputs": [
    {
     "data": {
      "text/html": [
       "<div>\n",
       "<style scoped>\n",
       "    .dataframe tbody tr th:only-of-type {\n",
       "        vertical-align: middle;\n",
       "    }\n",
       "\n",
       "    .dataframe tbody tr th {\n",
       "        vertical-align: top;\n",
       "    }\n",
       "\n",
       "    .dataframe thead th {\n",
       "        text-align: right;\n",
       "    }\n",
       "</style>\n",
       "<table border=\"1\" class=\"dataframe\">\n",
       "  <thead>\n",
       "    <tr style=\"text-align: right;\">\n",
       "      <th></th>\n",
       "      <th>article_id</th>\n",
       "      <th>sentence_id</th>\n",
       "      <th>label</th>\n",
       "    </tr>\n",
       "  </thead>\n",
       "  <tbody>\n",
       "    <tr>\n",
       "      <th>0</th>\n",
       "      <td>111111111</td>\n",
       "      <td>1</td>\n",
       "      <td>NaN</td>\n",
       "    </tr>\n",
       "    <tr>\n",
       "      <th>1</th>\n",
       "      <td>111111111</td>\n",
       "      <td>3</td>\n",
       "      <td>Doubt</td>\n",
       "    </tr>\n",
       "    <tr>\n",
       "      <th>2</th>\n",
       "      <td>111111111</td>\n",
       "      <td>5</td>\n",
       "      <td>Appeal_to_Authority</td>\n",
       "    </tr>\n",
       "    <tr>\n",
       "      <th>3</th>\n",
       "      <td>111111111</td>\n",
       "      <td>7</td>\n",
       "      <td>NaN</td>\n",
       "    </tr>\n",
       "    <tr>\n",
       "      <th>4</th>\n",
       "      <td>111111111</td>\n",
       "      <td>9</td>\n",
       "      <td>NaN</td>\n",
       "    </tr>\n",
       "  </tbody>\n",
       "</table>\n",
       "</div>"
      ],
      "text/plain": [
       "   article_id  sentence_id                label\n",
       "0   111111111            1                  NaN\n",
       "1   111111111            3                Doubt\n",
       "2   111111111            5  Appeal_to_Authority\n",
       "3   111111111            7                  NaN\n",
       "4   111111111            9                  NaN"
      ]
     },
     "execution_count": 41,
     "metadata": {},
     "output_type": "execute_result"
    }
   ],
   "source": [
    "# read the csv file /data/data/en/train-labels-subtask-3.txt the label for the article\n",
    "\n",
    "def read_task3_label(path):\n",
    "    df = pd.read_csv(path, sep='\\t', header=None)\n",
    "    df.columns = ['article_id', 'sentence_id', 'label']\n",
    "    return df\n",
    "\n",
    "task3_df = read_task3_label(f\"../data/data/en/train-labels-subtask-3.txt\")\n",
    "task3_df.head()"
   ]
  },
  {
   "cell_type": "code",
   "execution_count": 42,
   "metadata": {},
   "outputs": [
    {
     "data": {
      "text/plain": [
       "0                                              NaN\n",
       "1                                            Doubt\n",
       "2                              Appeal_to_Authority\n",
       "3                                              NaN\n",
       "4                                              NaN\n",
       "5                                              NaN\n",
       "6                                       Repetition\n",
       "7                                              NaN\n",
       "8                         Appeal_to_Fear-Prejudice\n",
       "9                         Appeal_to_Fear-Prejudice\n",
       "10                                             NaN\n",
       "11    Appeal_to_Authority,Appeal_to_Fear-Prejudice\n",
       "12                        Appeal_to_Fear-Prejudice\n",
       "13                                             NaN\n",
       "14                                             NaN\n",
       "Name: label, dtype: object"
      ]
     },
     "execution_count": 42,
     "metadata": {},
     "output_type": "execute_result"
    }
   ],
   "source": [
    "# get the label for the article\n",
    "task3_df[task3_df['article_id'] == int(article_id)]['label']"
   ]
  },
  {
   "cell_type": "code",
   "execution_count": 43,
   "metadata": {},
   "outputs": [
    {
     "name": "stdout",
     "output_type": "stream",
     "text": [
      "nan - Geneva - The World Health Organisation chief on Wednesday said a deadly plague epidemic appeared to have been brought under control in Madagascar, but warned the next outbreak would likely be stronger.\n",
      "\n",
      "nan - \n",
      "\n",
      "Doubt - \"The next transmission could be more pronounced or stronger,\" WHO Director-General Tedros Adhanom Ghebreyesus told reporters in Geneva, insisting that \"the issue is serious.\"\n",
      "\n",
      "Appeal_to_Authority - \n",
      "\n",
      "nan - An outbreak of both bubonic plague, which is spread by infected rats via flea bites, and pneumonic plague, spread person to person, has killed more than 200 people in the Indian Ocean island nation since August.\n",
      "\n",
      "nan - \n",
      "\n",
      "nan - Madagascar has suffered bubonic plague outbreaks almost every year since 1980, often caused by rats fleeing forest fires.\n",
      "\n",
      "Repetition - \n",
      "\n",
      "nan - The disease tends to make a comeback each hot rainy season, from September to April. On average, between 300 and 600 infections are recorded every year among a population approaching 25 million people, according to a UN estimate.\n",
      "\n",
      "Appeal_to_Fear-Prejudice - \n",
      "\n",
      "Appeal_to_Fear-Prejudice - But Tedros voiced alarm that \"plague in Madagascar behaved in a very, very different way this year.\"\n",
      "\n",
      "nan - \n",
      "\n",
      "Appeal_to_Authority,Appeal_to_Fear-Prejudice - Cases sprang up far earlier than usual and, instead of being confined to the countryside, the disease infiltrated towns. The authorities recorded more than 2 000 cases, and Tedros said Wednesday the death toll stood at 207.\n",
      "\n",
      "Appeal_to_Fear-Prejudice - \n",
      "\n",
      "nan - He also pointed to the presence of the pneumonic version, which spreads more easily and is more virulent, in the latest outbreak.\n",
      "\n",
      "nan - \n",
      "\n"
     ]
    },
    {
     "ename": "IndexError",
     "evalue": "index 15 is out of bounds for axis 0 with size 15",
     "output_type": "error",
     "traceback": [
      "\u001b[1;31m---------------------------------------------------------------------------\u001b[0m",
      "\u001b[1;31mIndexError\u001b[0m                                Traceback (most recent call last)",
      "\u001b[1;32mc:\\Users\\elias\\OneDrive\\Dokumente\\Git\\MasterThesis\\notebooks\\data-visualization.ipynb Cell 17\u001b[0m line \u001b[0;36m9\n\u001b[0;32m      <a href='vscode-notebook-cell:/c%3A/Users/elias/OneDrive/Dokumente/Git/MasterThesis/notebooks/data-visualization.ipynb#X21sZmlsZQ%3D%3D?line=5'>6</a>\u001b[0m     \u001b[39mfor\u001b[39;00m i, sentence \u001b[39min\u001b[39;00m \u001b[39menumerate\u001b[39m(content):\n\u001b[0;32m      <a href='vscode-notebook-cell:/c%3A/Users/elias/OneDrive/Dokumente/Git/MasterThesis/notebooks/data-visualization.ipynb#X21sZmlsZQ%3D%3D?line=6'>7</a>\u001b[0m         \u001b[39mprint\u001b[39m(\u001b[39mf\u001b[39m\u001b[39m\"\u001b[39m\u001b[39m{\u001b[39;00mlabel[i\u001b[39m-\u001b[39m\u001b[39m1\u001b[39m]\u001b[39m}\u001b[39;00m\u001b[39m - \u001b[39m\u001b[39m{\u001b[39;00msentence\u001b[39m}\u001b[39;00m\u001b[39m\"\u001b[39m)\n\u001b[1;32m----> <a href='vscode-notebook-cell:/c%3A/Users/elias/OneDrive/Dokumente/Git/MasterThesis/notebooks/data-visualization.ipynb#X21sZmlsZQ%3D%3D?line=8'>9</a>\u001b[0m print_sentence_with_label(content, task3_df[task3_df[\u001b[39m'\u001b[39;49m\u001b[39marticle_id\u001b[39;49m\u001b[39m'\u001b[39;49m] \u001b[39m==\u001b[39;49m \u001b[39mint\u001b[39;49m(article_id)][\u001b[39m'\u001b[39;49m\u001b[39mlabel\u001b[39;49m\u001b[39m'\u001b[39;49m]\u001b[39m.\u001b[39;49mvalues)\n",
      "\u001b[1;32mc:\\Users\\elias\\OneDrive\\Dokumente\\Git\\MasterThesis\\notebooks\\data-visualization.ipynb Cell 17\u001b[0m line \u001b[0;36m7\n\u001b[0;32m      <a href='vscode-notebook-cell:/c%3A/Users/elias/OneDrive/Dokumente/Git/MasterThesis/notebooks/data-visualization.ipynb#X21sZmlsZQ%3D%3D?line=4'>5</a>\u001b[0m \u001b[39mdef\u001b[39;00m \u001b[39mprint_sentence_with_label\u001b[39m(content, label):\n\u001b[0;32m      <a href='vscode-notebook-cell:/c%3A/Users/elias/OneDrive/Dokumente/Git/MasterThesis/notebooks/data-visualization.ipynb#X21sZmlsZQ%3D%3D?line=5'>6</a>\u001b[0m     \u001b[39mfor\u001b[39;00m i, sentence \u001b[39min\u001b[39;00m \u001b[39menumerate\u001b[39m(content):\n\u001b[1;32m----> <a href='vscode-notebook-cell:/c%3A/Users/elias/OneDrive/Dokumente/Git/MasterThesis/notebooks/data-visualization.ipynb#X21sZmlsZQ%3D%3D?line=6'>7</a>\u001b[0m         \u001b[39mprint\u001b[39m(\u001b[39mf\u001b[39m\u001b[39m\"\u001b[39m\u001b[39m{\u001b[39;00mlabel[i\u001b[39m-\u001b[39m\u001b[39m1\u001b[39m]\u001b[39m}\u001b[39;00m\u001b[39m - \u001b[39m\u001b[39m{\u001b[39;00msentence\u001b[39m}\u001b[39;00m\u001b[39m\"\u001b[39m)\n",
      "\u001b[1;31mIndexError\u001b[0m: index 15 is out of bounds for axis 0 with size 15"
     ]
    }
   ],
   "source": [
    "# each sentence id shows which sentence is meant by the label. Print out each sentence with label - sentence\n",
    "\n",
    "# take the content variable which has a list of the sentences and print out the sentence with the label\n",
    "\n",
    "def print_sentence_with_label(content, label):\n",
    "    for i, sentence in enumerate(content):\n",
    "        print(f\"{label[i-1]} - {sentence}\")\n",
    "\n",
    "print_sentence_with_label(content, task3_df[task3_df['article_id'] == int(article_id)]['label'].values)"
   ]
  },
  {
   "cell_type": "markdown",
   "metadata": {},
   "source": [
    "## Visualize the data for subtask 3 (span)"
   ]
  },
  {
   "cell_type": "code",
   "execution_count": 45,
   "metadata": {},
   "outputs": [],
   "source": [
    "article_id = \"111111111\""
   ]
  },
  {
   "cell_type": "code",
   "execution_count": 46,
   "metadata": {},
   "outputs": [
    {
     "data": {
      "text/html": [
       "<div>\n",
       "<style scoped>\n",
       "    .dataframe tbody tr th:only-of-type {\n",
       "        vertical-align: middle;\n",
       "    }\n",
       "\n",
       "    .dataframe tbody tr th {\n",
       "        vertical-align: top;\n",
       "    }\n",
       "\n",
       "    .dataframe thead th {\n",
       "        text-align: right;\n",
       "    }\n",
       "</style>\n",
       "<table border=\"1\" class=\"dataframe\">\n",
       "  <thead>\n",
       "    <tr style=\"text-align: right;\">\n",
       "      <th></th>\n",
       "      <th>article_id</th>\n",
       "      <th>label</th>\n",
       "      <th>start</th>\n",
       "      <th>end</th>\n",
       "    </tr>\n",
       "  </thead>\n",
       "  <tbody>\n",
       "    <tr>\n",
       "      <th>0</th>\n",
       "      <td>111111111</td>\n",
       "      <td>Doubt</td>\n",
       "      <td>149</td>\n",
       "      <td>157</td>\n",
       "    </tr>\n",
       "    <tr>\n",
       "      <th>1</th>\n",
       "      <td>111111111</td>\n",
       "      <td>Appeal_to_Authority</td>\n",
       "      <td>265</td>\n",
       "      <td>323</td>\n",
       "    </tr>\n",
       "    <tr>\n",
       "      <th>2</th>\n",
       "      <td>111111111</td>\n",
       "      <td>Repetition</td>\n",
       "      <td>1069</td>\n",
       "      <td>1091</td>\n",
       "    </tr>\n",
       "    <tr>\n",
       "      <th>3</th>\n",
       "      <td>111111111</td>\n",
       "      <td>Appeal_to_Fear-Prejudice</td>\n",
       "      <td>1334</td>\n",
       "      <td>1462</td>\n",
       "    </tr>\n",
       "    <tr>\n",
       "      <th>4</th>\n",
       "      <td>111111111</td>\n",
       "      <td>Appeal_to_Fear-Prejudice</td>\n",
       "      <td>1577</td>\n",
       "      <td>1616</td>\n",
       "    </tr>\n",
       "  </tbody>\n",
       "</table>\n",
       "</div>"
      ],
      "text/plain": [
       "   article_id                     label  start   end\n",
       "0   111111111                     Doubt    149   157\n",
       "1   111111111       Appeal_to_Authority    265   323\n",
       "2   111111111                Repetition   1069  1091\n",
       "3   111111111  Appeal_to_Fear-Prejudice   1334  1462\n",
       "4   111111111  Appeal_to_Fear-Prejudice   1577  1616"
      ]
     },
     "execution_count": 46,
     "metadata": {},
     "output_type": "execute_result"
    }
   ],
   "source": [
    "# read the csv data\\data\\en\\dev-labels-subtask-3-spans\\article{aticle_id}-labels-subtask-3.txt the label for the article\n",
    "\n",
    "def read_task3_span_label(path):\n",
    "    df = pd.read_csv(path, sep='\\t', header=None)\n",
    "    df.columns = ['article_id', 'label', 'start', 'end']\n",
    "    return df\n",
    "\n",
    "task3_span_df = read_task3_span_label(f\"../data/data/en/train-labels-subtask-3-spans/article{article_id}-labels-subtask-3.txt\")\n",
    "task3_span_df.head()"
   ]
  },
  {
   "cell_type": "code",
   "execution_count": 47,
   "metadata": {},
   "outputs": [
    {
     "data": {
      "text/html": [
       "<div>\n",
       "<style scoped>\n",
       "    .dataframe tbody tr th:only-of-type {\n",
       "        vertical-align: middle;\n",
       "    }\n",
       "\n",
       "    .dataframe tbody tr th {\n",
       "        vertical-align: top;\n",
       "    }\n",
       "\n",
       "    .dataframe thead th {\n",
       "        text-align: right;\n",
       "    }\n",
       "</style>\n",
       "<table border=\"1\" class=\"dataframe\">\n",
       "  <thead>\n",
       "    <tr style=\"text-align: right;\">\n",
       "      <th></th>\n",
       "      <th>article_id</th>\n",
       "      <th>label</th>\n",
       "      <th>start</th>\n",
       "      <th>end</th>\n",
       "    </tr>\n",
       "  </thead>\n",
       "  <tbody>\n",
       "    <tr>\n",
       "      <th>0</th>\n",
       "      <td>111111111</td>\n",
       "      <td>Doubt</td>\n",
       "      <td>149</td>\n",
       "      <td>157</td>\n",
       "    </tr>\n",
       "    <tr>\n",
       "      <th>1</th>\n",
       "      <td>111111111</td>\n",
       "      <td>Appeal_to_Authority</td>\n",
       "      <td>265</td>\n",
       "      <td>323</td>\n",
       "    </tr>\n",
       "    <tr>\n",
       "      <th>2</th>\n",
       "      <td>111111111</td>\n",
       "      <td>Repetition</td>\n",
       "      <td>1069</td>\n",
       "      <td>1091</td>\n",
       "    </tr>\n",
       "    <tr>\n",
       "      <th>3</th>\n",
       "      <td>111111111</td>\n",
       "      <td>Appeal_to_Fear-Prejudice</td>\n",
       "      <td>1334</td>\n",
       "      <td>1462</td>\n",
       "    </tr>\n",
       "    <tr>\n",
       "      <th>4</th>\n",
       "      <td>111111111</td>\n",
       "      <td>Appeal_to_Fear-Prejudice</td>\n",
       "      <td>1577</td>\n",
       "      <td>1616</td>\n",
       "    </tr>\n",
       "    <tr>\n",
       "      <th>5</th>\n",
       "      <td>111111111</td>\n",
       "      <td>Appeal_to_Authority</td>\n",
       "      <td>1795</td>\n",
       "      <td>1935</td>\n",
       "    </tr>\n",
       "    <tr>\n",
       "      <th>6</th>\n",
       "      <td>111111111</td>\n",
       "      <td>Appeal_to_Fear-Prejudice</td>\n",
       "      <td>1856</td>\n",
       "      <td>1910</td>\n",
       "    </tr>\n",
       "    <tr>\n",
       "      <th>7</th>\n",
       "      <td>111111111</td>\n",
       "      <td>Appeal_to_Fear-Prejudice</td>\n",
       "      <td>2023</td>\n",
       "      <td>2086</td>\n",
       "    </tr>\n",
       "  </tbody>\n",
       "</table>\n",
       "</div>"
      ],
      "text/plain": [
       "   article_id                     label  start   end\n",
       "0   111111111                     Doubt    149   157\n",
       "1   111111111       Appeal_to_Authority    265   323\n",
       "2   111111111                Repetition   1069  1091\n",
       "3   111111111  Appeal_to_Fear-Prejudice   1334  1462\n",
       "4   111111111  Appeal_to_Fear-Prejudice   1577  1616\n",
       "5   111111111       Appeal_to_Authority   1795  1935\n",
       "6   111111111  Appeal_to_Fear-Prejudice   1856  1910\n",
       "7   111111111  Appeal_to_Fear-Prejudice   2023  2086"
      ]
     },
     "execution_count": 47,
     "metadata": {},
     "output_type": "execute_result"
    }
   ],
   "source": [
    "# get the label for the article\n",
    "task3_span_df[task3_span_df['article_id'] == int(article_id)]"
   ]
  },
  {
   "cell_type": "code",
   "execution_count": 51,
   "metadata": {},
   "outputs": [],
   "source": [
    "# give each label a color, color the defined span in the content and give a legend where the colors are defined\n",
    "from IPython.display import Markdown, display\n",
    "# create a dict which defines each label with a color based on label name in task3_span_df\n",
    "\n",
    "def create_label_color_dict(df):\n",
    "    labels = df['label'].unique()\n",
    "    colors = sns.color_palette(\"hls\", len(labels))\n",
    "    return dict(zip(labels, colors))\n",
    "\n",
    "# take color_dict, text, label, start and end as function input and return colored text\n",
    "\n",
    "def color_text(color_dict, text, label, start, end):\n",
    "    color = color_dict[label]\n",
    "    colored_text = f\"<span style='color:rgb({int(color[0]*255)},{int(color[1]*255)},{int(color[2]*255)}'>{text[start:end]}</span>\"\n",
    "    display(Markdown(colored_text))\n",
    "\n",
    "# sample\n",
    "color_dict = create_label_color_dict(task3_span_df)\n"
   ]
  },
  {
   "cell_type": "code",
   "execution_count": 52,
   "metadata": {},
   "outputs": [],
   "source": [
    "from IPython.display import Markdown, display\n",
    "\n",
    "def display_colored_text(title, content, task3_span_df, article_id, color_dict, active_selection):\n",
    "    text = title + \" \" + \"\".join(content)\n",
    "    colored_spans = []\n",
    "\n",
    "    # Initialize a list to keep track of the span positions that have already been covered\n",
    "    covered_positions = []\n",
    "\n",
    "    # Iterate over the rows of the DataFrame and add the colored spans to the list\n",
    "    for index, row in task3_span_df[task3_span_df['article_id'] == int(article_id)].iterrows():\n",
    "        label = row['label']\n",
    "        start = row['start']\n",
    "        end = row['end']\n",
    "\n",
    "        # Check if this span overlaps with any previously covered span\n",
    "        overlap = any(start < end_prev and end > start_prev for start_prev, end_prev in covered_positions)\n",
    "\n",
    "        # If it doesn't overlap, process and add the colored span\n",
    "        if not overlap:\n",
    "            color = color_dict[label]\n",
    "            # Create a span with the appropriate color\n",
    "            colored_span = f\"<span style='color:rgb({int(color[0]*255)},{int(color[1]*255)},{int(color[2]*255)});'>{text[start:end]}</span>\"\n",
    "            colored_spans.append((start, end, colored_span))\n",
    "\n",
    "        # Add the span's positions to the list of covered positions\n",
    "        covered_positions.append((start, end))\n",
    "\n",
    "    # Sort the colored spans by their start position\n",
    "    colored_spans.sort(key=lambda x: x[0])\n",
    "\n",
    "    # Combine all the colored spans into a single string\n",
    "    colored_text = \"\"\n",
    "    current_position = 0\n",
    "\n",
    "    for start, end, span in colored_spans:\n",
    "        # Append the uncolored text between the current position and the start of the colored span\n",
    "        colored_text += text[current_position:start]\n",
    "        colored_text += span\n",
    "        current_position = end\n",
    "\n",
    "    # Append any remaining uncolored text\n",
    "    colored_text += text[current_position:]\n",
    "\n",
    "    # Display the colored text and legend\n",
    "    display(Markdown(colored_text))\n",
    "    display(Markdown(\"### Legend\"))\n",
    "    for label, color in color_dict.items():\n",
    "        display(Markdown(f\"<span style='color:rgb({int(color[0]*255)},{int(color[1]*255)},{int(color[2]*255)});'>{label}</span>\"))\n",
    "\n",
    "    # Display the active selection\n",
    "    if active_selection:\n",
    "        display(Markdown(\"### Active Selection\"))\n",
    "        display(active_selection)\n"
   ]
  },
  {
   "cell_type": "code",
   "execution_count": 53,
   "metadata": {},
   "outputs": [
    {
     "data": {
      "text/markdown": [
       "Next plague outbreak in Madagascar could be 'stronger': WHO\n",
       " Geneva - The World Health Organisation chief on Wednesday said a deadly plague epidemic <span style='color:rgb(219,94,86);'>appeared</span> to have been brought under control in Madagascar, but warned the next outbreak would likely be stronger.\n",
       "\n",
       "\"<span style='color:rgb(145,219,86);'>The next transmission could be more pronounced or stronger</span>,\" WHO Director-General Tedros Adhanom Ghebreyesus told reporters in Geneva, insisting that \"the issue is serious.\"\n",
       "\n",
       "An outbreak of both bubonic plague, which is spread by infected rats via flea bites, and pneumonic plague, spread person to person, has killed more than 200 people in the Indian Ocean island nation since August.\n",
       "\n",
       "Madagascar has suffered bubonic plague outbreaks almost every year since 1980, often caused by rats fleeing forest fires.\n",
       "\n",
       "The disease tends to make a comeback each hot rainy season, from September to April. On average, between 300 and 600 infections are recorded every year among a population approaching 25 million people, according to a UN estimate.\n",
       "\n",
       "But Tedros voiced alarm that \"plague in Madagascar behaved in <span style='color:rgb(86,211,219);'>a very, very different</span> way this year.\"\n",
       "\n",
       "Cases sprang up far earlier than usual and, instead of being confined to the countryside, the disease infiltrated towns. The authorities recorded more than 2 000 cases, and Tedros said Wednesday the death toll stood at 207.\n",
       "\n",
       "<span style='color:rgb(160,86,219);'>He also pointed to the presence of the pneumonic version, which spreads more easily and is more virulent, in the latest outbreak</span>.\n",
       "\n",
       "He praised the rapid response from WHO and Madagascar authorities that helped bring the outbreak under control, <span style='color:rgb(160,86,219);'>but warned that the danger was not over</span>.\n",
       "\n",
       "The larger-than-usual outbreak had helped spread the bacteria that causes the plague more widely.\n",
       "\n",
       "This along with poor sanitation and vector control on Madagascar meant that \"<span style='color:rgb(145,219,86);'>when (the plague) comes again it starts from more stock, and the magnitude in the next transmission could be higher than the one that we saw</span>,\" Tedros said.\n",
       "\n",
       "\"That means that Madagascar could be affected more, and not only that, <span style='color:rgb(160,86,219);'>it could even spill over into neighbouring countries and beyond</span>,\" he warned.\n",
       "\n",
       "Complicating vector control is the fact that the fleas that carry the Yersinia pestis bacteria that causes the plague have proven to be widely resistant to chemicals and insecticides.\n",
       "\n",
       "\"That's a dangerous combination,\" Tedros said.\n"
      ],
      "text/plain": [
       "<IPython.core.display.Markdown object>"
      ]
     },
     "metadata": {},
     "output_type": "display_data"
    },
    {
     "data": {
      "text/markdown": [
       "### Legend"
      ],
      "text/plain": [
       "<IPython.core.display.Markdown object>"
      ]
     },
     "metadata": {},
     "output_type": "display_data"
    },
    {
     "data": {
      "text/markdown": [
       "<span style='color:rgb(219,94,86);'>Doubt</span>"
      ],
      "text/plain": [
       "<IPython.core.display.Markdown object>"
      ]
     },
     "metadata": {},
     "output_type": "display_data"
    },
    {
     "data": {
      "text/markdown": [
       "<span style='color:rgb(145,219,86);'>Appeal_to_Authority</span>"
      ],
      "text/plain": [
       "<IPython.core.display.Markdown object>"
      ]
     },
     "metadata": {},
     "output_type": "display_data"
    },
    {
     "data": {
      "text/markdown": [
       "<span style='color:rgb(86,211,219);'>Repetition</span>"
      ],
      "text/plain": [
       "<IPython.core.display.Markdown object>"
      ]
     },
     "metadata": {},
     "output_type": "display_data"
    },
    {
     "data": {
      "text/markdown": [
       "<span style='color:rgb(160,86,219);'>Appeal_to_Fear-Prejudice</span>"
      ],
      "text/plain": [
       "<IPython.core.display.Markdown object>"
      ]
     },
     "metadata": {},
     "output_type": "display_data"
    }
   ],
   "source": [
    "active_selection = None\n",
    "display_colored_text(title, content, task3_span_df, article_id, color_dict, active_selection)"
   ]
  },
  {
   "cell_type": "code",
   "execution_count": 67,
   "metadata": {},
   "outputs": [],
   "source": [
    "# get a set of all span labels used in the all articles\n",
    "\n",
    "# read csv data\\data\\en\\train-labels-subtask-3.txt\n",
    "\n",
    "span_df = pd.read_csv(f\"../data/data/en/train-labels-subtask-3.txt\", sep='\\t', header=None)\n",
    "span_df.columns = ['article_id', 'sentence_id', 'label']\n",
    "\n",
    "# split label column after , if there are multiple labels\n",
    "span_df['label'] = span_df['label'].apply(lambda x: x.split(',') if type(x) == str else x)"
   ]
  },
  {
   "cell_type": "code",
   "execution_count": 69,
   "metadata": {},
   "outputs": [
    {
     "data": {
      "text/html": [
       "<div>\n",
       "<style scoped>\n",
       "    .dataframe tbody tr th:only-of-type {\n",
       "        vertical-align: middle;\n",
       "    }\n",
       "\n",
       "    .dataframe tbody tr th {\n",
       "        vertical-align: top;\n",
       "    }\n",
       "\n",
       "    .dataframe thead th {\n",
       "        text-align: right;\n",
       "    }\n",
       "</style>\n",
       "<table border=\"1\" class=\"dataframe\">\n",
       "  <thead>\n",
       "    <tr style=\"text-align: right;\">\n",
       "      <th></th>\n",
       "      <th>article_id</th>\n",
       "      <th>sentence_id</th>\n",
       "      <th>label</th>\n",
       "    </tr>\n",
       "  </thead>\n",
       "  <tbody>\n",
       "    <tr>\n",
       "      <th>0</th>\n",
       "      <td>111111111</td>\n",
       "      <td>1</td>\n",
       "      <td>NaN</td>\n",
       "    </tr>\n",
       "    <tr>\n",
       "      <th>1</th>\n",
       "      <td>111111111</td>\n",
       "      <td>3</td>\n",
       "      <td>[Doubt]</td>\n",
       "    </tr>\n",
       "    <tr>\n",
       "      <th>2</th>\n",
       "      <td>111111111</td>\n",
       "      <td>5</td>\n",
       "      <td>[Appeal_to_Authority]</td>\n",
       "    </tr>\n",
       "    <tr>\n",
       "      <th>3</th>\n",
       "      <td>111111111</td>\n",
       "      <td>7</td>\n",
       "      <td>NaN</td>\n",
       "    </tr>\n",
       "    <tr>\n",
       "      <th>4</th>\n",
       "      <td>111111111</td>\n",
       "      <td>9</td>\n",
       "      <td>NaN</td>\n",
       "    </tr>\n",
       "  </tbody>\n",
       "</table>\n",
       "</div>"
      ],
      "text/plain": [
       "   article_id  sentence_id                  label\n",
       "0   111111111            1                    NaN\n",
       "1   111111111            3                [Doubt]\n",
       "2   111111111            5  [Appeal_to_Authority]\n",
       "3   111111111            7                    NaN\n",
       "4   111111111            9                    NaN"
      ]
     },
     "execution_count": 69,
     "metadata": {},
     "output_type": "execute_result"
    }
   ],
   "source": [
    "span_df.head()"
   ]
  },
  {
   "cell_type": "code",
   "execution_count": 78,
   "metadata": {},
   "outputs": [],
   "source": [
    "# get all labels and unpack list of labels\n",
    "all_labels = span_df.label.values.tolist()\n",
    "all_labels\n",
    "\n",
    "# unpack list of lists\n",
    "for i, labels in enumerate(all_labels):\n",
    "    if type(labels) == list:\n",
    "        all_labels[i] = labels[0]"
   ]
  },
  {
   "cell_type": "code",
   "execution_count": 83,
   "metadata": {},
   "outputs": [
    {
     "data": {
      "text/plain": [
       "{'Appeal_to_Authority',\n",
       " 'Appeal_to_Fear-Prejudice',\n",
       " 'Appeal_to_Hypocrisy',\n",
       " 'Appeal_to_Popularity',\n",
       " 'Causal_Oversimplification',\n",
       " 'Conversation_Killer',\n",
       " 'Doubt',\n",
       " 'Exaggeration-Minimisation',\n",
       " 'False_Dilemma-No_Choice',\n",
       " 'Flag_Waving',\n",
       " 'Guilt_by_Association',\n",
       " 'Loaded_Language',\n",
       " 'Name_Calling-Labeling',\n",
       " 'Obfuscation-Vagueness-Confusion',\n",
       " 'Red_Herring',\n",
       " 'Repetition',\n",
       " 'Slogans',\n",
       " 'Straw_Man',\n",
       " 'Whataboutism',\n",
       " nan}"
      ]
     },
     "execution_count": 83,
     "metadata": {},
     "output_type": "execute_result"
    }
   ],
   "source": [
    "set(all_labels)"
   ]
  }
 ],
 "metadata": {
  "kernelspec": {
   "display_name": "Python 3",
   "language": "python",
   "name": "python3"
  },
  "language_info": {
   "codemirror_mode": {
    "name": "ipython",
    "version": 3
   },
   "file_extension": ".py",
   "mimetype": "text/x-python",
   "name": "python",
   "nbconvert_exporter": "python",
   "pygments_lexer": "ipython3",
   "version": "3.10.13"
  },
  "orig_nbformat": 4
 },
 "nbformat": 4,
 "nbformat_minor": 2
}
