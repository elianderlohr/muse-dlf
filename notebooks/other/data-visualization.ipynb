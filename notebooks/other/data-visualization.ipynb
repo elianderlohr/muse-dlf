{
 "cells": [
  {
   "cell_type": "code",
   "execution_count": 30,
   "metadata": {},
   "outputs": [
    {
     "name": "stdout",
     "output_type": "stream",
     "text": [
      "Requirement already satisfied: seaborn in c:\\users\\elias\\anaconda3\\envs\\nlp\\lib\\site-packages (0.12.2)\n",
      "Requirement already satisfied: numpy!=1.24.0,>=1.17 in c:\\users\\elias\\anaconda3\\envs\\nlp\\lib\\site-packages (from seaborn) (1.24.3)\n",
      "Requirement already satisfied: pandas>=0.25 in c:\\users\\elias\\anaconda3\\envs\\nlp\\lib\\site-packages (from seaborn) (2.1.0)\n",
      "Requirement already satisfied: matplotlib!=3.6.1,>=3.1 in c:\\users\\elias\\anaconda3\\envs\\nlp\\lib\\site-packages (from seaborn) (3.8.0)\n",
      "Requirement already satisfied: contourpy>=1.0.1 in c:\\users\\elias\\anaconda3\\envs\\nlp\\lib\\site-packages (from matplotlib!=3.6.1,>=3.1->seaborn) (1.1.1)\n",
      "Requirement already satisfied: cycler>=0.10 in c:\\users\\elias\\anaconda3\\envs\\nlp\\lib\\site-packages (from matplotlib!=3.6.1,>=3.1->seaborn) (0.11.0)\n",
      "Requirement already satisfied: fonttools>=4.22.0 in c:\\users\\elias\\anaconda3\\envs\\nlp\\lib\\site-packages (from matplotlib!=3.6.1,>=3.1->seaborn) (4.42.1)\n",
      "Requirement already satisfied: kiwisolver>=1.0.1 in c:\\users\\elias\\anaconda3\\envs\\nlp\\lib\\site-packages (from matplotlib!=3.6.1,>=3.1->seaborn) (1.4.5)\n",
      "Requirement already satisfied: packaging>=20.0 in c:\\users\\elias\\anaconda3\\envs\\nlp\\lib\\site-packages (from matplotlib!=3.6.1,>=3.1->seaborn) (23.1)\n",
      "Requirement already satisfied: pillow>=6.2.0 in c:\\users\\elias\\anaconda3\\envs\\nlp\\lib\\site-packages (from matplotlib!=3.6.1,>=3.1->seaborn) (10.0.1)\n",
      "Requirement already satisfied: pyparsing>=2.3.1 in c:\\users\\elias\\anaconda3\\envs\\nlp\\lib\\site-packages (from matplotlib!=3.6.1,>=3.1->seaborn) (3.1.1)\n",
      "Requirement already satisfied: python-dateutil>=2.7 in c:\\users\\elias\\anaconda3\\envs\\nlp\\lib\\site-packages (from matplotlib!=3.6.1,>=3.1->seaborn) (2.8.2)\n",
      "Requirement already satisfied: pytz>=2020.1 in c:\\users\\elias\\anaconda3\\envs\\nlp\\lib\\site-packages (from pandas>=0.25->seaborn) (2023.3.post1)\n",
      "Requirement already satisfied: tzdata>=2022.1 in c:\\users\\elias\\anaconda3\\envs\\nlp\\lib\\site-packages (from pandas>=0.25->seaborn) (2023.3)\n",
      "Requirement already satisfied: six>=1.5 in c:\\users\\elias\\anaconda3\\envs\\nlp\\lib\\site-packages (from python-dateutil>=2.7->matplotlib!=3.6.1,>=3.1->seaborn) (1.16.0)\n",
      "Note: you may need to restart the kernel to use updated packages.\n"
     ]
    }
   ],
   "source": [
    "pip install seaborn"
   ]
  },
  {
   "cell_type": "code",
   "execution_count": 1,
   "metadata": {},
   "outputs": [
    {
     "ename": "ModuleNotFoundError",
     "evalue": "No module named 'seaborn'",
     "output_type": "error",
     "traceback": [
      "\u001b[1;31m---------------------------------------------------------------------------\u001b[0m",
      "\u001b[1;31mModuleNotFoundError\u001b[0m                       Traceback (most recent call last)",
      "\u001b[1;32mc:\\Users\\elias\\Documents\\Git\\MasterThesis\\notebooks\\data-visualization.ipynb Cell 2\u001b[0m line \u001b[0;36m2\n\u001b[0;32m      <a href='vscode-notebook-cell:/c%3A/Users/elias/Documents/Git/MasterThesis/notebooks/data-visualization.ipynb#W1sZmlsZQ%3D%3D?line=0'>1</a>\u001b[0m \u001b[39mimport\u001b[39;00m \u001b[39mpandas\u001b[39;00m \u001b[39mas\u001b[39;00m \u001b[39mpd\u001b[39;00m\n\u001b[1;32m----> <a href='vscode-notebook-cell:/c%3A/Users/elias/Documents/Git/MasterThesis/notebooks/data-visualization.ipynb#W1sZmlsZQ%3D%3D?line=1'>2</a>\u001b[0m \u001b[39mimport\u001b[39;00m \u001b[39mseaborn\u001b[39;00m \u001b[39mas\u001b[39;00m \u001b[39msns\u001b[39;00m\n",
      "\u001b[1;31mModuleNotFoundError\u001b[0m: No module named 'seaborn'"
     ]
    }
   ],
   "source": [
    "import pandas as pd\n",
    "import seaborn as sns"
   ]
  },
  {
   "cell_type": "code",
   "execution_count": 2,
   "metadata": {},
   "outputs": [
    {
     "name": "stdout",
     "output_type": "stream",
     "text": [
      "../data/data/en\\dev-articles-subtask-1: 83 files\n",
      "../data/data/en\\dev-articles-subtask-2: 83 files\n",
      "../data/data/en\\dev-articles-subtask-3: 90 files\n",
      "../data/data/en\\dev-labels-subtask-3: 180 files\n",
      "../data/data/en\\dev-labels-subtask-3-spans: 90 files\n",
      "../data/data/en\\test-articles-subtask-1: 54 files\n",
      "../data/data/en\\test-articles-subtask-2: 54 files\n",
      "../data/data/en\\test-articles-subtask-3: 54 files\n",
      "../data/data/en\\train-articles-subtask-1: 433 files\n",
      "../data/data/en\\train-articles-subtask-2: 433 files\n",
      "../data/data/en\\train-articles-subtask-3: 447 files\n",
      "../data/data/en\\train-labels-subtask-3: 892 files\n",
      "../data/data/en\\train-labels-subtask-3-spans: 446 files\n"
     ]
    },
    {
     "data": {
      "text/plain": [
       "3339"
      ]
     },
     "execution_count": 2,
     "metadata": {},
     "output_type": "execute_result"
    }
   ],
   "source": [
    "import os\n",
    "\n",
    "def count_files(path):\n",
    "    count = 0\n",
    "    for folder, subfolders, files in os.walk(path):\n",
    "        for subfolder in subfolders:\n",
    "            subfolder_path = os.path.join(folder, subfolder)\n",
    "            file_count = len(os.listdir(subfolder_path))\n",
    "            count += file_count\n",
    "            print(f\"{subfolder_path}: {file_count} files\")\n",
    "    return count\n",
    "\n",
    "count_files('../data/data/en')"
   ]
  },
  {
   "cell_type": "markdown",
   "metadata": {},
   "source": [
    "## Visualize the data for subtask 1"
   ]
  },
  {
   "cell_type": "code",
   "execution_count": 3,
   "metadata": {},
   "outputs": [],
   "source": [
    "article_id = \"111111111\""
   ]
  },
  {
   "cell_type": "code",
   "execution_count": 4,
   "metadata": {},
   "outputs": [
    {
     "name": "stdout",
     "output_type": "stream",
     "text": [
      "Next plague outbreak in Madagascar could be 'stronger': WHO\n",
      "\n",
      "['Geneva - The World Health Organisation chief on Wednesday said a deadly plague epidemic appeared to have been brought under control in Madagascar, but warned the next outbreak would likely be stronger.\\n', '\\n', '\"The next transmission could be more pronounced or stronger,\" WHO Director-General Tedros Adhanom Ghebreyesus told reporters in Geneva, insisting that \"the issue is serious.\"\\n', '\\n', 'An outbreak of both bubonic plague, which is spread by infected rats via flea bites, and pneumonic plague, spread person to person, has killed more than 200 people in the Indian Ocean island nation since August.\\n', '\\n', 'Madagascar has suffered bubonic plague outbreaks almost every year since 1980, often caused by rats fleeing forest fires.\\n', '\\n', 'The disease tends to make a comeback each hot rainy season, from September to April. On average, between 300 and 600 infections are recorded every year among a population approaching 25 million people, according to a UN estimate.\\n', '\\n', 'But Tedros voiced alarm that \"plague in Madagascar behaved in a very, very different way this year.\"\\n', '\\n', 'Cases sprang up far earlier than usual and, instead of being confined to the countryside, the disease infiltrated towns. The authorities recorded more than 2 000 cases, and Tedros said Wednesday the death toll stood at 207.\\n', '\\n', 'He also pointed to the presence of the pneumonic version, which spreads more easily and is more virulent, in the latest outbreak.\\n', '\\n', 'He praised the rapid response from WHO and Madagascar authorities that helped bring the outbreak under control, but warned that the danger was not over.\\n', '\\n', 'The larger-than-usual outbreak had helped spread the bacteria that causes the plague more widely.\\n', '\\n', 'This along with poor sanitation and vector control on Madagascar meant that \"when (the plague) comes again it starts from more stock, and the magnitude in the next transmission could be higher than the one that we saw,\" Tedros said.\\n', '\\n', '\"That means that Madagascar could be affected more, and not only that, it could even spill over into neighbouring countries and beyond,\" he warned.\\n', '\\n', 'Complicating vector control is the fact that the fleas that carry the Yersinia pestis bacteria that causes the plague have proven to be widely resistant to chemicals and insecticides.\\n', '\\n', '\"That\\'s a dangerous combination,\" Tedros said.\\n']\n"
     ]
    }
   ],
   "source": [
    "# read the article line 1 is the title, line 2 is the content\n",
    "\n",
    "def read_article(path):\n",
    "    with open(path, 'r', encoding='utf-8') as file:\n",
    "        lines = file.readlines()\n",
    "        title = lines[0]\n",
    "        content = lines[2:]\n",
    "        return title, content\n",
    "    \n",
    "title, content = read_article(f\"../data/data/en/train-articles-subtask-1/article{article_id}.txt\")\n",
    "\n",
    "print(title)\n",
    "print(content)"
   ]
  },
  {
   "cell_type": "code",
   "execution_count": 5,
   "metadata": {},
   "outputs": [
    {
     "data": {
      "text/html": [
       "<div>\n",
       "<style scoped>\n",
       "    .dataframe tbody tr th:only-of-type {\n",
       "        vertical-align: middle;\n",
       "    }\n",
       "\n",
       "    .dataframe tbody tr th {\n",
       "        vertical-align: top;\n",
       "    }\n",
       "\n",
       "    .dataframe thead th {\n",
       "        text-align: right;\n",
       "    }\n",
       "</style>\n",
       "<table border=\"1\" class=\"dataframe\">\n",
       "  <thead>\n",
       "    <tr style=\"text-align: right;\">\n",
       "      <th></th>\n",
       "      <th>article_id</th>\n",
       "      <th>label</th>\n",
       "    </tr>\n",
       "  </thead>\n",
       "  <tbody>\n",
       "    <tr>\n",
       "      <th>0</th>\n",
       "      <td>833042063</td>\n",
       "      <td>satire</td>\n",
       "    </tr>\n",
       "    <tr>\n",
       "      <th>1</th>\n",
       "      <td>832959523</td>\n",
       "      <td>satire</td>\n",
       "    </tr>\n",
       "    <tr>\n",
       "      <th>2</th>\n",
       "      <td>833039623</td>\n",
       "      <td>satire</td>\n",
       "    </tr>\n",
       "    <tr>\n",
       "      <th>3</th>\n",
       "      <td>833032367</td>\n",
       "      <td>satire</td>\n",
       "    </tr>\n",
       "    <tr>\n",
       "      <th>4</th>\n",
       "      <td>814777937</td>\n",
       "      <td>satire</td>\n",
       "    </tr>\n",
       "  </tbody>\n",
       "</table>\n",
       "</div>"
      ],
      "text/plain": [
       "   article_id   label\n",
       "0   833042063  satire\n",
       "1   832959523  satire\n",
       "2   833039623  satire\n",
       "3   833032367  satire\n",
       "4   814777937  satire"
      ]
     },
     "execution_count": 5,
     "metadata": {},
     "output_type": "execute_result"
    }
   ],
   "source": [
    "# read from the csv file /data/data/en/train-labels-subtask-1.txt the label for the article\n",
    "\n",
    "def read_task1_label(path):\n",
    "    df = pd.read_csv(path, sep='\\t', header=None)\n",
    "    df.columns = ['article_id', 'label']\n",
    "    return df\n",
    "\n",
    "task1_df = read_task1_label(f\"../data/data/en/train-labels-subtask-1.txt\")\n",
    "task1_df.head()"
   ]
  },
  {
   "cell_type": "code",
   "execution_count": 6,
   "metadata": {},
   "outputs": [
    {
     "data": {
      "text/plain": [
       "'opinion'"
      ]
     },
     "execution_count": 6,
     "metadata": {},
     "output_type": "execute_result"
    }
   ],
   "source": [
    "task1_df[task1_df['article_id'] == int(article_id)].label.values[0]"
   ]
  },
  {
   "cell_type": "markdown",
   "metadata": {},
   "source": [
    "## Visualize the data for subtask 2"
   ]
  },
  {
   "cell_type": "code",
   "execution_count": 7,
   "metadata": {},
   "outputs": [],
   "source": [
    "article_id = \"111111111\""
   ]
  },
  {
   "cell_type": "code",
   "execution_count": 8,
   "metadata": {},
   "outputs": [
    {
     "data": {
      "text/html": [
       "<div>\n",
       "<style scoped>\n",
       "    .dataframe tbody tr th:only-of-type {\n",
       "        vertical-align: middle;\n",
       "    }\n",
       "\n",
       "    .dataframe tbody tr th {\n",
       "        vertical-align: top;\n",
       "    }\n",
       "\n",
       "    .dataframe thead th {\n",
       "        text-align: right;\n",
       "    }\n",
       "</style>\n",
       "<table border=\"1\" class=\"dataframe\">\n",
       "  <thead>\n",
       "    <tr style=\"text-align: right;\">\n",
       "      <th></th>\n",
       "      <th>article_id</th>\n",
       "      <th>label</th>\n",
       "    </tr>\n",
       "  </thead>\n",
       "  <tbody>\n",
       "    <tr>\n",
       "      <th>0</th>\n",
       "      <td>833042063</td>\n",
       "      <td>Political,Morality,Fairness_and_equality,Exter...</td>\n",
       "    </tr>\n",
       "    <tr>\n",
       "      <th>1</th>\n",
       "      <td>832959523</td>\n",
       "      <td>Morality,Security_and_defense,Policy_prescript...</td>\n",
       "    </tr>\n",
       "    <tr>\n",
       "      <th>2</th>\n",
       "      <td>833039623</td>\n",
       "      <td>Political,Crime_and_punishment,External_regula...</td>\n",
       "    </tr>\n",
       "    <tr>\n",
       "      <th>3</th>\n",
       "      <td>833032367</td>\n",
       "      <td>Political,Crime_and_punishment,Fairness_and_eq...</td>\n",
       "    </tr>\n",
       "    <tr>\n",
       "      <th>4</th>\n",
       "      <td>814777937</td>\n",
       "      <td>Political,Morality,Fairness_and_equality,Exter...</td>\n",
       "    </tr>\n",
       "  </tbody>\n",
       "</table>\n",
       "</div>"
      ],
      "text/plain": [
       "   article_id                                              label\n",
       "0   833042063  Political,Morality,Fairness_and_equality,Exter...\n",
       "1   832959523  Morality,Security_and_defense,Policy_prescript...\n",
       "2   833039623  Political,Crime_and_punishment,External_regula...\n",
       "3   833032367  Political,Crime_and_punishment,Fairness_and_eq...\n",
       "4   814777937  Political,Morality,Fairness_and_equality,Exter..."
      ]
     },
     "execution_count": 8,
     "metadata": {},
     "output_type": "execute_result"
    }
   ],
   "source": [
    "# read the csv file /data/data/en/train-labels-subtask-2.txt the label for the article\n",
    "\n",
    "def read_task2_label(path):\n",
    "    df = pd.read_csv(path, sep='\\t', header=None)\n",
    "    df.columns = ['article_id', 'label']\n",
    "    return df\n",
    "\n",
    "task2_df = read_task2_label(f\"../data/data/en/train-labels-subtask-2.txt\")\n",
    "task2_df.head()"
   ]
  },
  {
   "cell_type": "code",
   "execution_count": 9,
   "metadata": {},
   "outputs": [],
   "source": [
    "# split label after ,\n",
    "task2_df['label'] = task2_df['label'].apply(lambda x: x.split(','))\n",
    "\n",
    "# get all labels and unpack list of labels\n",
    "all_labels = task2_df.label.values.tolist()\n",
    "all_labels\n",
    "\n",
    "# unpack list of lists\n",
    "for i, labels in enumerate(all_labels):\n",
    "    if type(labels) == list:\n",
    "        all_labels[i] = labels[0]"
   ]
  },
  {
   "cell_type": "code",
   "execution_count": 10,
   "metadata": {},
   "outputs": [
    {
     "data": {
      "text/plain": [
       "({'Capacity_and_resources',\n",
       "  'Crime_and_punishment',\n",
       "  'Cultural_identity',\n",
       "  'Economic',\n",
       "  'External_regulation_and_reputation',\n",
       "  'Fairness_and_equality',\n",
       "  'Health_and_safety',\n",
       "  'Morality',\n",
       "  'Policy_prescription_and_evaluation',\n",
       "  'Political',\n",
       "  'Public_opinion',\n",
       "  'Quality_of_life',\n",
       "  'Security_and_defense'},\n",
       " 13)"
      ]
     },
     "execution_count": 10,
     "metadata": {},
     "output_type": "execute_result"
    }
   ],
   "source": [
    "set(all_labels), len(set(all_labels))"
   ]
  },
  {
   "cell_type": "code",
   "execution_count": null,
   "metadata": {},
   "outputs": [],
   "source": []
  },
  {
   "cell_type": "code",
   "execution_count": null,
   "metadata": {},
   "outputs": [],
   "source": []
  },
  {
   "cell_type": "code",
   "execution_count": 11,
   "metadata": {},
   "outputs": [
    {
     "data": {
      "text/plain": [
       "['Health_and_safety', 'Quality_of_life']"
      ]
     },
     "execution_count": 11,
     "metadata": {},
     "output_type": "execute_result"
    }
   ],
   "source": [
    "# get the label for the article\n",
    "task2_df[task2_df['article_id'] == int(article_id)].iloc[0]['label']"
   ]
  },
  {
   "cell_type": "code",
   "execution_count": 21,
   "metadata": {},
   "outputs": [],
   "source": [
    "# get all txt file path in data\\data\\en\\dev-articles-subtask-2\n",
    "txt_files = []\n",
    "\n",
    "for folder, subfolders, files in os.walk('../data/data/en/train-articles-subtask-2'):\n",
    "    for file in files:\n",
    "        txt_files.append(os.path.join(folder, file))\n"
   ]
  },
  {
   "cell_type": "code",
   "execution_count": 22,
   "metadata": {},
   "outputs": [
    {
     "data": {
      "text/plain": [
       "{'../data/data/en/train-articles-subtask-2\\\\article111111111.txt': 16,\n",
       " '../data/data/en/train-articles-subtask-2\\\\article111111112.txt': 25,\n",
       " '../data/data/en/train-articles-subtask-2\\\\article111111113.txt': 36,\n",
       " '../data/data/en/train-articles-subtask-2\\\\article111111114.txt': 30,\n",
       " '../data/data/en/train-articles-subtask-2\\\\article111111115.txt': 23,\n",
       " '../data/data/en/train-articles-subtask-2\\\\article111111117.txt': 9,\n",
       " '../data/data/en/train-articles-subtask-2\\\\article111111121.txt': 19,\n",
       " '../data/data/en/train-articles-subtask-2\\\\article111111122.txt': 54,\n",
       " '../data/data/en/train-articles-subtask-2\\\\article111111123.txt': 41,\n",
       " '../data/data/en/train-articles-subtask-2\\\\article111111131.txt': 69,\n",
       " '../data/data/en/train-articles-subtask-2\\\\article111111132.txt': 130,\n",
       " '../data/data/en/train-articles-subtask-2\\\\article111111133.txt': 45,\n",
       " '../data/data/en/train-articles-subtask-2\\\\article111111134.txt': 19,\n",
       " '../data/data/en/train-articles-subtask-2\\\\article111111135.txt': 85,\n",
       " '../data/data/en/train-articles-subtask-2\\\\article111111136.txt': 16,\n",
       " '../data/data/en/train-articles-subtask-2\\\\article111111137.txt': 26,\n",
       " '../data/data/en/train-articles-subtask-2\\\\article694327499.txt': 85,\n",
       " '../data/data/en/train-articles-subtask-2\\\\article694356862.txt': 43,\n",
       " '../data/data/en/train-articles-subtask-2\\\\article695108099.txt': 21,\n",
       " '../data/data/en/train-articles-subtask-2\\\\article695833178.txt': 24,\n",
       " '../data/data/en/train-articles-subtask-2\\\\article696246189.txt': 32,\n",
       " '../data/data/en/train-articles-subtask-2\\\\article696264594.txt': 88,\n",
       " '../data/data/en/train-articles-subtask-2\\\\article696694316.txt': 85,\n",
       " '../data/data/en/train-articles-subtask-2\\\\article696735702.txt': 30,\n",
       " '../data/data/en/train-articles-subtask-2\\\\article697063039.txt': 22,\n",
       " '../data/data/en/train-articles-subtask-2\\\\article697444415.txt': 20,\n",
       " '../data/data/en/train-articles-subtask-2\\\\article697454736.txt': 120,\n",
       " '../data/data/en/train-articles-subtask-2\\\\article697959084.txt': 23,\n",
       " '../data/data/en/train-articles-subtask-2\\\\article697996062.txt': 13,\n",
       " '../data/data/en/train-articles-subtask-2\\\\article698018235.txt': 38,\n",
       " '../data/data/en/train-articles-subtask-2\\\\article698092698.txt': 62,\n",
       " '../data/data/en/train-articles-subtask-2\\\\article698503276.txt': 62,\n",
       " '../data/data/en/train-articles-subtask-2\\\\article698719689.txt': 27,\n",
       " '../data/data/en/train-articles-subtask-2\\\\article698780559.txt': 18,\n",
       " '../data/data/en/train-articles-subtask-2\\\\article699142854.txt': 55,\n",
       " '../data/data/en/train-articles-subtask-2\\\\article699291100.txt': 39,\n",
       " '../data/data/en/train-articles-subtask-2\\\\article699478811.txt': 72,\n",
       " '../data/data/en/train-articles-subtask-2\\\\article700387229.txt': 23,\n",
       " '../data/data/en/train-articles-subtask-2\\\\article700461600.txt': 81,\n",
       " '../data/data/en/train-articles-subtask-2\\\\article700662577.txt': 32,\n",
       " '../data/data/en/train-articles-subtask-2\\\\article701225819.txt': 61,\n",
       " '../data/data/en/train-articles-subtask-2\\\\article701299732.txt': 21,\n",
       " '../data/data/en/train-articles-subtask-2\\\\article701447437.txt': 14,\n",
       " '../data/data/en/train-articles-subtask-2\\\\article701553469.txt': 34,\n",
       " '../data/data/en/train-articles-subtask-2\\\\article701837665.txt': 148,\n",
       " '../data/data/en/train-articles-subtask-2\\\\article701933838.txt': 13,\n",
       " '../data/data/en/train-articles-subtask-2\\\\article701939679.txt': 23,\n",
       " '../data/data/en/train-articles-subtask-2\\\\article702077434.txt': 22,\n",
       " '../data/data/en/train-articles-subtask-2\\\\article702077783.txt': 56,\n",
       " '../data/data/en/train-articles-subtask-2\\\\article702111021.txt': 29,\n",
       " '../data/data/en/train-articles-subtask-2\\\\article703056647.txt': 19,\n",
       " '../data/data/en/train-articles-subtask-2\\\\article703698295.txt': 107,\n",
       " '../data/data/en/train-articles-subtask-2\\\\article703806098.txt': 16,\n",
       " '../data/data/en/train-articles-subtask-2\\\\article703821117.txt': 201,\n",
       " '../data/data/en/train-articles-subtask-2\\\\article704591553.txt': 40,\n",
       " '../data/data/en/train-articles-subtask-2\\\\article704856340.txt': 24,\n",
       " '../data/data/en/train-articles-subtask-2\\\\article705035735.txt': 24,\n",
       " '../data/data/en/train-articles-subtask-2\\\\article705409419.txt': 69,\n",
       " '../data/data/en/train-articles-subtask-2\\\\article706088110.txt': 30,\n",
       " '../data/data/en/train-articles-subtask-2\\\\article706501640.txt': 18,\n",
       " '../data/data/en/train-articles-subtask-2\\\\article706600938.txt': 54,\n",
       " '../data/data/en/train-articles-subtask-2\\\\article706636401.txt': 25,\n",
       " '../data/data/en/train-articles-subtask-2\\\\article706661242.txt': 10,\n",
       " '../data/data/en/train-articles-subtask-2\\\\article706777811.txt': 30,\n",
       " '../data/data/en/train-articles-subtask-2\\\\article707451080.txt': 53,\n",
       " '../data/data/en/train-articles-subtask-2\\\\article707566605.txt': 21,\n",
       " '../data/data/en/train-articles-subtask-2\\\\article707772906.txt': 49,\n",
       " '../data/data/en/train-articles-subtask-2\\\\article708071969.txt': 18,\n",
       " '../data/data/en/train-articles-subtask-2\\\\article708487008.txt': 17,\n",
       " '../data/data/en/train-articles-subtask-2\\\\article708561738.txt': 28,\n",
       " '../data/data/en/train-articles-subtask-2\\\\article709732928.txt': 140,\n",
       " '../data/data/en/train-articles-subtask-2\\\\article710100700.txt': 18,\n",
       " '../data/data/en/train-articles-subtask-2\\\\article710376094.txt': 16,\n",
       " '../data/data/en/train-articles-subtask-2\\\\article711566593.txt': 47,\n",
       " '../data/data/en/train-articles-subtask-2\\\\article711596363.txt': 65,\n",
       " '../data/data/en/train-articles-subtask-2\\\\article711622457.txt': 36,\n",
       " '../data/data/en/train-articles-subtask-2\\\\article711716996.txt': 48,\n",
       " '../data/data/en/train-articles-subtask-2\\\\article711964584.txt': 51,\n",
       " '../data/data/en/train-articles-subtask-2\\\\article712382330.txt': 25,\n",
       " '../data/data/en/train-articles-subtask-2\\\\article713130996.txt': 44,\n",
       " '../data/data/en/train-articles-subtask-2\\\\article715588833.txt': 65,\n",
       " '../data/data/en/train-articles-subtask-2\\\\article715790840.txt': 14,\n",
       " '../data/data/en/train-articles-subtask-2\\\\article716469423.txt': 22,\n",
       " '../data/data/en/train-articles-subtask-2\\\\article718312499.txt': 15,\n",
       " '../data/data/en/train-articles-subtask-2\\\\article718595845.txt': 70,\n",
       " '../data/data/en/train-articles-subtask-2\\\\article721406153.txt': 32,\n",
       " '../data/data/en/train-articles-subtask-2\\\\article721710340.txt': 40,\n",
       " '../data/data/en/train-articles-subtask-2\\\\article721890296.txt': 43,\n",
       " '../data/data/en/train-articles-subtask-2\\\\article722507879.txt': 49,\n",
       " '../data/data/en/train-articles-subtask-2\\\\article722512241.txt': 70,\n",
       " '../data/data/en/train-articles-subtask-2\\\\article723501118.txt': 29,\n",
       " '../data/data/en/train-articles-subtask-2\\\\article723537899.txt': 73,\n",
       " '../data/data/en/train-articles-subtask-2\\\\article723793978.txt': 10,\n",
       " '../data/data/en/train-articles-subtask-2\\\\article723823436.txt': 31,\n",
       " '../data/data/en/train-articles-subtask-2\\\\article723844295.txt': 22,\n",
       " '../data/data/en/train-articles-subtask-2\\\\article723883127.txt': 20,\n",
       " '../data/data/en/train-articles-subtask-2\\\\article724095467.txt': 49,\n",
       " '../data/data/en/train-articles-subtask-2\\\\article724095598.txt': 9,\n",
       " '../data/data/en/train-articles-subtask-2\\\\article724791253.txt': 34,\n",
       " '../data/data/en/train-articles-subtask-2\\\\article725238842.txt': 13,\n",
       " '../data/data/en/train-articles-subtask-2\\\\article725276027.txt': 51,\n",
       " '../data/data/en/train-articles-subtask-2\\\\article725498022.txt': 170,\n",
       " '../data/data/en/train-articles-subtask-2\\\\article725731328.txt': 44,\n",
       " '../data/data/en/train-articles-subtask-2\\\\article725824328.txt': 33,\n",
       " '../data/data/en/train-articles-subtask-2\\\\article727174208.txt': 45,\n",
       " '../data/data/en/train-articles-subtask-2\\\\article727405181.txt': 16,\n",
       " '../data/data/en/train-articles-subtask-2\\\\article727497152.txt': 5,\n",
       " '../data/data/en/train-articles-subtask-2\\\\article727569885.txt': 46,\n",
       " '../data/data/en/train-articles-subtask-2\\\\article727634031.txt': 130,\n",
       " '../data/data/en/train-articles-subtask-2\\\\article727658675.txt': 33,\n",
       " '../data/data/en/train-articles-subtask-2\\\\article727736557.txt': 58,\n",
       " '../data/data/en/train-articles-subtask-2\\\\article727869189.txt': 38,\n",
       " '../data/data/en/train-articles-subtask-2\\\\article728153988.txt': 5,\n",
       " '../data/data/en/train-articles-subtask-2\\\\article728169864.txt': 55,\n",
       " '../data/data/en/train-articles-subtask-2\\\\article728343601.txt': 43,\n",
       " '../data/data/en/train-articles-subtask-2\\\\article728680557.txt': 16,\n",
       " '../data/data/en/train-articles-subtask-2\\\\article728758697.txt': 25,\n",
       " '../data/data/en/train-articles-subtask-2\\\\article728972961.txt': 451,\n",
       " '../data/data/en/train-articles-subtask-2\\\\article729303442.txt': 29,\n",
       " '../data/data/en/train-articles-subtask-2\\\\article729348908.txt': 48,\n",
       " '../data/data/en/train-articles-subtask-2\\\\article729368012.txt': 63,\n",
       " '../data/data/en/train-articles-subtask-2\\\\article729410793.txt': 40,\n",
       " '../data/data/en/train-articles-subtask-2\\\\article729549972.txt': 14,\n",
       " '../data/data/en/train-articles-subtask-2\\\\article729561658.txt': 27,\n",
       " '../data/data/en/train-articles-subtask-2\\\\article729578579.txt': 190,\n",
       " '../data/data/en/train-articles-subtask-2\\\\article729581752.txt': 15,\n",
       " '../data/data/en/train-articles-subtask-2\\\\article729651527.txt': 27,\n",
       " '../data/data/en/train-articles-subtask-2\\\\article729668796.txt': 33,\n",
       " '../data/data/en/train-articles-subtask-2\\\\article729670169.txt': 25,\n",
       " '../data/data/en/train-articles-subtask-2\\\\article729700539.txt': 13,\n",
       " '../data/data/en/train-articles-subtask-2\\\\article729940206.txt': 30,\n",
       " '../data/data/en/train-articles-subtask-2\\\\article730019938.txt': 22,\n",
       " '../data/data/en/train-articles-subtask-2\\\\article730036755.txt': 46,\n",
       " '../data/data/en/train-articles-subtask-2\\\\article730061195.txt': 17,\n",
       " '../data/data/en/train-articles-subtask-2\\\\article730081389.txt': 18,\n",
       " '../data/data/en/train-articles-subtask-2\\\\article730093263.txt': 23,\n",
       " '../data/data/en/train-articles-subtask-2\\\\article730149656.txt': 48,\n",
       " '../data/data/en/train-articles-subtask-2\\\\article730222442.txt': 18,\n",
       " '../data/data/en/train-articles-subtask-2\\\\article730237078.txt': 18,\n",
       " '../data/data/en/train-articles-subtask-2\\\\article730246508.txt': 50,\n",
       " '../data/data/en/train-articles-subtask-2\\\\article730268758.txt': 51,\n",
       " '../data/data/en/train-articles-subtask-2\\\\article730269378.txt': 12,\n",
       " '../data/data/en/train-articles-subtask-2\\\\article730389374.txt': 73,\n",
       " '../data/data/en/train-articles-subtask-2\\\\article730559808.txt': 49,\n",
       " '../data/data/en/train-articles-subtask-2\\\\article730573740.txt': 24,\n",
       " '../data/data/en/train-articles-subtask-2\\\\article730865684.txt': 24,\n",
       " '../data/data/en/train-articles-subtask-2\\\\article731063195.txt': 37,\n",
       " '../data/data/en/train-articles-subtask-2\\\\article731178960.txt': 20,\n",
       " '../data/data/en/train-articles-subtask-2\\\\article731511020.txt': 16,\n",
       " '../data/data/en/train-articles-subtask-2\\\\article731513824.txt': 50,\n",
       " '../data/data/en/train-articles-subtask-2\\\\article731762731.txt': 32,\n",
       " '../data/data/en/train-articles-subtask-2\\\\article731927633.txt': 41,\n",
       " '../data/data/en/train-articles-subtask-2\\\\article732154721.txt': 26,\n",
       " '../data/data/en/train-articles-subtask-2\\\\article732610971.txt': 28,\n",
       " '../data/data/en/train-articles-subtask-2\\\\article732708002.txt': 57,\n",
       " '../data/data/en/train-articles-subtask-2\\\\article733754480.txt': 6,\n",
       " '../data/data/en/train-articles-subtask-2\\\\article734265267.txt': 44,\n",
       " '../data/data/en/train-articles-subtask-2\\\\article735090638.txt': 21,\n",
       " '../data/data/en/train-articles-subtask-2\\\\article735265649.txt': 14,\n",
       " '../data/data/en/train-articles-subtask-2\\\\article735815173.txt': 32,\n",
       " '../data/data/en/train-articles-subtask-2\\\\article735815503.txt': 12,\n",
       " '../data/data/en/train-articles-subtask-2\\\\article735855251.txt': 31,\n",
       " '../data/data/en/train-articles-subtask-2\\\\article736231219.txt': 11,\n",
       " '../data/data/en/train-articles-subtask-2\\\\article736757214.txt': 8,\n",
       " '../data/data/en/train-articles-subtask-2\\\\article737194975.txt': 126,\n",
       " '../data/data/en/train-articles-subtask-2\\\\article737255982.txt': 29,\n",
       " '../data/data/en/train-articles-subtask-2\\\\article737457870.txt': 36,\n",
       " '../data/data/en/train-articles-subtask-2\\\\article738028498.txt': 27,\n",
       " '../data/data/en/train-articles-subtask-2\\\\article738060046.txt': 21,\n",
       " '../data/data/en/train-articles-subtask-2\\\\article738207834.txt': 185,\n",
       " '../data/data/en/train-articles-subtask-2\\\\article738361208.txt': 35,\n",
       " '../data/data/en/train-articles-subtask-2\\\\article738442776.txt': 26,\n",
       " '../data/data/en/train-articles-subtask-2\\\\article738447109.txt': 68,\n",
       " '../data/data/en/train-articles-subtask-2\\\\article738542398.txt': 12,\n",
       " '../data/data/en/train-articles-subtask-2\\\\article738781754.txt': 22,\n",
       " '../data/data/en/train-articles-subtask-2\\\\article739091070.txt': 18,\n",
       " '../data/data/en/train-articles-subtask-2\\\\article739140767.txt': 11,\n",
       " '../data/data/en/train-articles-subtask-2\\\\article740235127.txt': 38,\n",
       " '../data/data/en/train-articles-subtask-2\\\\article740808926.txt': 13,\n",
       " '../data/data/en/train-articles-subtask-2\\\\article741655444.txt': 28,\n",
       " '../data/data/en/train-articles-subtask-2\\\\article741802985.txt': 37,\n",
       " '../data/data/en/train-articles-subtask-2\\\\article741896049.txt': 23,\n",
       " '../data/data/en/train-articles-subtask-2\\\\article741923579.txt': 45,\n",
       " '../data/data/en/train-articles-subtask-2\\\\article754111899.txt': 17,\n",
       " '../data/data/en/train-articles-subtask-2\\\\article754131438.txt': 10,\n",
       " '../data/data/en/train-articles-subtask-2\\\\article754179642.txt': 26,\n",
       " '../data/data/en/train-articles-subtask-2\\\\article754231597.txt': 11,\n",
       " '../data/data/en/train-articles-subtask-2\\\\article754348478.txt': 22,\n",
       " '../data/data/en/train-articles-subtask-2\\\\article754402671.txt': 25,\n",
       " '../data/data/en/train-articles-subtask-2\\\\article754508491.txt': 14,\n",
       " '../data/data/en/train-articles-subtask-2\\\\article755170235.txt': 39,\n",
       " '../data/data/en/train-articles-subtask-2\\\\article755393220.txt': 54,\n",
       " '../data/data/en/train-articles-subtask-2\\\\article755459860.txt': 80,\n",
       " '../data/data/en/train-articles-subtask-2\\\\article755814432.txt': 40,\n",
       " '../data/data/en/train-articles-subtask-2\\\\article756114837.txt': 56,\n",
       " '../data/data/en/train-articles-subtask-2\\\\article757171650.txt': 21,\n",
       " '../data/data/en/train-articles-subtask-2\\\\article757243988.txt': 54,\n",
       " '../data/data/en/train-articles-subtask-2\\\\article757611486.txt': 64,\n",
       " '../data/data/en/train-articles-subtask-2\\\\article757713354.txt': 59,\n",
       " '../data/data/en/train-articles-subtask-2\\\\article757843275.txt': 33,\n",
       " '../data/data/en/train-articles-subtask-2\\\\article757964238.txt': 23,\n",
       " '../data/data/en/train-articles-subtask-2\\\\article758385628.txt': 28,\n",
       " '../data/data/en/train-articles-subtask-2\\\\article758386255.txt': 190,\n",
       " '../data/data/en/train-articles-subtask-2\\\\article758469195.txt': 18,\n",
       " '../data/data/en/train-articles-subtask-2\\\\article758472954.txt': 4,\n",
       " '../data/data/en/train-articles-subtask-2\\\\article758512204.txt': 43,\n",
       " '../data/data/en/train-articles-subtask-2\\\\article758669180.txt': 40,\n",
       " '../data/data/en/train-articles-subtask-2\\\\article758756657.txt': 72,\n",
       " '../data/data/en/train-articles-subtask-2\\\\article758812201.txt': 36,\n",
       " '../data/data/en/train-articles-subtask-2\\\\article758882558.txt': 15,\n",
       " '../data/data/en/train-articles-subtask-2\\\\article759468687.txt': 40,\n",
       " '../data/data/en/train-articles-subtask-2\\\\article759478604.txt': 120,\n",
       " '../data/data/en/train-articles-subtask-2\\\\article761334950.txt': 186,\n",
       " '../data/data/en/train-articles-subtask-2\\\\article761546223.txt': 35,\n",
       " '../data/data/en/train-articles-subtask-2\\\\article761564397.txt': 39,\n",
       " '../data/data/en/train-articles-subtask-2\\\\article761568202.txt': 16,\n",
       " '../data/data/en/train-articles-subtask-2\\\\article761575506.txt': 18,\n",
       " '../data/data/en/train-articles-subtask-2\\\\article761610997.txt': 63,\n",
       " '../data/data/en/train-articles-subtask-2\\\\article761674108.txt': 63,\n",
       " '../data/data/en/train-articles-subtask-2\\\\article761722669.txt': 35,\n",
       " '../data/data/en/train-articles-subtask-2\\\\article761780613.txt': 8,\n",
       " '../data/data/en/train-articles-subtask-2\\\\article761874505.txt': 23,\n",
       " '../data/data/en/train-articles-subtask-2\\\\article761955563.txt': 45,\n",
       " '../data/data/en/train-articles-subtask-2\\\\article761968851.txt': 86,\n",
       " '../data/data/en/train-articles-subtask-2\\\\article761969038.txt': 118,\n",
       " '../data/data/en/train-articles-subtask-2\\\\article761969692.txt': 134,\n",
       " '../data/data/en/train-articles-subtask-2\\\\article762147609.txt': 135,\n",
       " '../data/data/en/train-articles-subtask-2\\\\article762152527.txt': 24,\n",
       " '../data/data/en/train-articles-subtask-2\\\\article762160164.txt': 45,\n",
       " '../data/data/en/train-articles-subtask-2\\\\article762200179.txt': 54,\n",
       " '../data/data/en/train-articles-subtask-2\\\\article762206044.txt': 69,\n",
       " '../data/data/en/train-articles-subtask-2\\\\article762340819.txt': 57,\n",
       " '../data/data/en/train-articles-subtask-2\\\\article762546428.txt': 27,\n",
       " '../data/data/en/train-articles-subtask-2\\\\article762956953.txt': 20,\n",
       " '../data/data/en/train-articles-subtask-2\\\\article763114850.txt': 56,\n",
       " '../data/data/en/train-articles-subtask-2\\\\article763260610.txt': 169,\n",
       " '../data/data/en/train-articles-subtask-2\\\\article763280007.txt': 54,\n",
       " '../data/data/en/train-articles-subtask-2\\\\article763412406.txt': 68,\n",
       " '../data/data/en/train-articles-subtask-2\\\\article763440871.txt': 23,\n",
       " '../data/data/en/train-articles-subtask-2\\\\article764518567.txt': 83,\n",
       " '../data/data/en/train-articles-subtask-2\\\\article764609985.txt': 73,\n",
       " '../data/data/en/train-articles-subtask-2\\\\article764664283.txt': 72,\n",
       " '../data/data/en/train-articles-subtask-2\\\\article764715911.txt': 60,\n",
       " '../data/data/en/train-articles-subtask-2\\\\article765029945.txt': 25,\n",
       " '../data/data/en/train-articles-subtask-2\\\\article765197039.txt': 36,\n",
       " '../data/data/en/train-articles-subtask-2\\\\article765385479.txt': 114,\n",
       " '../data/data/en/train-articles-subtask-2\\\\article765913191.txt': 51,\n",
       " '../data/data/en/train-articles-subtask-2\\\\article765953146.txt': 49,\n",
       " '../data/data/en/train-articles-subtask-2\\\\article765982381.txt': 78,\n",
       " '../data/data/en/train-articles-subtask-2\\\\article766084411.txt': 34,\n",
       " '../data/data/en/train-articles-subtask-2\\\\article766632016.txt': 69,\n",
       " '../data/data/en/train-articles-subtask-2\\\\article766942310.txt': 55,\n",
       " '../data/data/en/train-articles-subtask-2\\\\article767129999.txt': 24,\n",
       " '../data/data/en/train-articles-subtask-2\\\\article769427494.txt': 80,\n",
       " '../data/data/en/train-articles-subtask-2\\\\article769682854.txt': 23,\n",
       " '../data/data/en/train-articles-subtask-2\\\\article769752554.txt': 23,\n",
       " '../data/data/en/train-articles-subtask-2\\\\article769962236.txt': 43,\n",
       " '../data/data/en/train-articles-subtask-2\\\\article769962328.txt': 60,\n",
       " '../data/data/en/train-articles-subtask-2\\\\article770156173.txt': 60,\n",
       " '../data/data/en/train-articles-subtask-2\\\\article770156851.txt': 67,\n",
       " '../data/data/en/train-articles-subtask-2\\\\article770221823.txt': 18,\n",
       " '../data/data/en/train-articles-subtask-2\\\\article770376380.txt': 46,\n",
       " '../data/data/en/train-articles-subtask-2\\\\article770581969.txt': 33,\n",
       " '../data/data/en/train-articles-subtask-2\\\\article770877978.txt': 23,\n",
       " '../data/data/en/train-articles-subtask-2\\\\article770938827.txt': 25,\n",
       " '../data/data/en/train-articles-subtask-2\\\\article770945799.txt': 18,\n",
       " '../data/data/en/train-articles-subtask-2\\\\article770956434.txt': 34,\n",
       " '../data/data/en/train-articles-subtask-2\\\\article771254016.txt': 11,\n",
       " '../data/data/en/train-articles-subtask-2\\\\article771406408.txt': 40,\n",
       " '../data/data/en/train-articles-subtask-2\\\\article771546417.txt': 27,\n",
       " '../data/data/en/train-articles-subtask-2\\\\article771879020.txt': 71,\n",
       " '../data/data/en/train-articles-subtask-2\\\\article772836731.txt': 129,\n",
       " '../data/data/en/train-articles-subtask-2\\\\article772947654.txt': 51,\n",
       " '../data/data/en/train-articles-subtask-2\\\\article773520636.txt': 163,\n",
       " '../data/data/en/train-articles-subtask-2\\\\article773650987.txt': 39,\n",
       " '../data/data/en/train-articles-subtask-2\\\\article773937361.txt': 176,\n",
       " '../data/data/en/train-articles-subtask-2\\\\article774007496.txt': 38,\n",
       " '../data/data/en/train-articles-subtask-2\\\\article774145019.txt': 51,\n",
       " '../data/data/en/train-articles-subtask-2\\\\article774637726.txt': 28,\n",
       " '../data/data/en/train-articles-subtask-2\\\\article774904810.txt': 67,\n",
       " '../data/data/en/train-articles-subtask-2\\\\article775448623.txt': 29,\n",
       " '../data/data/en/train-articles-subtask-2\\\\article776049384.txt': 111,\n",
       " '../data/data/en/train-articles-subtask-2\\\\article776126299.txt': 57,\n",
       " '../data/data/en/train-articles-subtask-2\\\\article776368676.txt': 69,\n",
       " '../data/data/en/train-articles-subtask-2\\\\article776373795.txt': 48,\n",
       " '../data/data/en/train-articles-subtask-2\\\\article776385494.txt': 33,\n",
       " '../data/data/en/train-articles-subtask-2\\\\article776535164.txt': 8,\n",
       " '../data/data/en/train-articles-subtask-2\\\\article776616374.txt': 51,\n",
       " '../data/data/en/train-articles-subtask-2\\\\article777488669.txt': 188,\n",
       " '../data/data/en/train-articles-subtask-2\\\\article777720051.txt': 15,\n",
       " '../data/data/en/train-articles-subtask-2\\\\article777785889.txt': 20,\n",
       " '../data/data/en/train-articles-subtask-2\\\\article777869943.txt': 59,\n",
       " '../data/data/en/train-articles-subtask-2\\\\article778094905.txt': 36,\n",
       " '../data/data/en/train-articles-subtask-2\\\\article778139122.txt': 141,\n",
       " '../data/data/en/train-articles-subtask-2\\\\article778358096.txt': 40,\n",
       " '../data/data/en/train-articles-subtask-2\\\\article778507244.txt': 20,\n",
       " '../data/data/en/train-articles-subtask-2\\\\article778664280.txt': 80,\n",
       " '../data/data/en/train-articles-subtask-2\\\\article778730964.txt': 26,\n",
       " '../data/data/en/train-articles-subtask-2\\\\article779309765.txt': 39,\n",
       " '../data/data/en/train-articles-subtask-2\\\\article779394730.txt': 43,\n",
       " '../data/data/en/train-articles-subtask-2\\\\article780414700.txt': 152,\n",
       " '../data/data/en/train-articles-subtask-2\\\\article780619695.txt': 48,\n",
       " '../data/data/en/train-articles-subtask-2\\\\article780786973.txt': 27,\n",
       " '../data/data/en/train-articles-subtask-2\\\\article780787440.txt': 32,\n",
       " '../data/data/en/train-articles-subtask-2\\\\article781577820.txt': 21,\n",
       " '../data/data/en/train-articles-subtask-2\\\\article781672902.txt': 136,\n",
       " '../data/data/en/train-articles-subtask-2\\\\article781768042.txt': 111,\n",
       " '../data/data/en/train-articles-subtask-2\\\\article781847297.txt': 17,\n",
       " '../data/data/en/train-articles-subtask-2\\\\article782017101.txt': 82,\n",
       " '../data/data/en/train-articles-subtask-2\\\\article782086447.txt': 270,\n",
       " '../data/data/en/train-articles-subtask-2\\\\article782149032.txt': 21,\n",
       " '../data/data/en/train-articles-subtask-2\\\\article782149225.txt': 37,\n",
       " '../data/data/en/train-articles-subtask-2\\\\article782448403.txt': 19,\n",
       " '../data/data/en/train-articles-subtask-2\\\\article783702663.txt': 250,\n",
       " '../data/data/en/train-articles-subtask-2\\\\article783774960.txt': 62,\n",
       " '../data/data/en/train-articles-subtask-2\\\\article784143418.txt': 40,\n",
       " '../data/data/en/train-articles-subtask-2\\\\article784382409.txt': 75,\n",
       " '../data/data/en/train-articles-subtask-2\\\\article785331076.txt': 43,\n",
       " '../data/data/en/train-articles-subtask-2\\\\article785801366.txt': 88,\n",
       " '../data/data/en/train-articles-subtask-2\\\\article786004130.txt': 61,\n",
       " '../data/data/en/train-articles-subtask-2\\\\article786250729.txt': 22,\n",
       " '../data/data/en/train-articles-subtask-2\\\\article786527921.txt': 134,\n",
       " '../data/data/en/train-articles-subtask-2\\\\article786731884.txt': 38,\n",
       " '../data/data/en/train-articles-subtask-2\\\\article786919720.txt': 52,\n",
       " '../data/data/en/train-articles-subtask-2\\\\article787002327.txt': 51,\n",
       " '../data/data/en/train-articles-subtask-2\\\\article787085939.txt': 65,\n",
       " '../data/data/en/train-articles-subtask-2\\\\article787142429.txt': 21,\n",
       " '../data/data/en/train-articles-subtask-2\\\\article787529309.txt': 76,\n",
       " '../data/data/en/train-articles-subtask-2\\\\article787668628.txt': 58,\n",
       " '../data/data/en/train-articles-subtask-2\\\\article787730392.txt': 37,\n",
       " '../data/data/en/train-articles-subtask-2\\\\article787759779.txt': 13,\n",
       " '../data/data/en/train-articles-subtask-2\\\\article787955075.txt': 19,\n",
       " '../data/data/en/train-articles-subtask-2\\\\article787966255.txt': 51,\n",
       " '../data/data/en/train-articles-subtask-2\\\\article788056108.txt': 105,\n",
       " '../data/data/en/train-articles-subtask-2\\\\article788173482.txt': 60,\n",
       " '../data/data/en/train-articles-subtask-2\\\\article788271400.txt': 61,\n",
       " '../data/data/en/train-articles-subtask-2\\\\article788273361.txt': 44,\n",
       " '../data/data/en/train-articles-subtask-2\\\\article788626289.txt': 32,\n",
       " '../data/data/en/train-articles-subtask-2\\\\article788726416.txt': 35,\n",
       " '../data/data/en/train-articles-subtask-2\\\\article788816478.txt': 62,\n",
       " '../data/data/en/train-articles-subtask-2\\\\article788847916.txt': 41,\n",
       " '../data/data/en/train-articles-subtask-2\\\\article788900262.txt': 92,\n",
       " '../data/data/en/train-articles-subtask-2\\\\article789121265.txt': 66,\n",
       " '../data/data/en/train-articles-subtask-2\\\\article789121798.txt': 46,\n",
       " '../data/data/en/train-articles-subtask-2\\\\article789370909.txt': 114,\n",
       " '../data/data/en/train-articles-subtask-2\\\\article789370998.txt': 36,\n",
       " '../data/data/en/train-articles-subtask-2\\\\article789454337.txt': 40,\n",
       " '../data/data/en/train-articles-subtask-2\\\\article789512681.txt': 93,\n",
       " '../data/data/en/train-articles-subtask-2\\\\article789615291.txt': 117,\n",
       " '../data/data/en/train-articles-subtask-2\\\\article789753303.txt': 46,\n",
       " '../data/data/en/train-articles-subtask-2\\\\article790266787.txt': 105,\n",
       " '../data/data/en/train-articles-subtask-2\\\\article790483991.txt': 66,\n",
       " '../data/data/en/train-articles-subtask-2\\\\article790499380.txt': 69,\n",
       " '../data/data/en/train-articles-subtask-2\\\\article790665855.txt': 59,\n",
       " '../data/data/en/train-articles-subtask-2\\\\article790666929.txt': 49,\n",
       " '../data/data/en/train-articles-subtask-2\\\\article790667730.txt': 31,\n",
       " '../data/data/en/train-articles-subtask-2\\\\article790677230.txt': 120,\n",
       " '../data/data/en/train-articles-subtask-2\\\\article790720480.txt': 27,\n",
       " '../data/data/en/train-articles-subtask-2\\\\article790720714.txt': 46,\n",
       " '../data/data/en/train-articles-subtask-2\\\\article790777028.txt': 34,\n",
       " '../data/data/en/train-articles-subtask-2\\\\article793467906.txt': 62,\n",
       " '../data/data/en/train-articles-subtask-2\\\\article793534424.txt': 91,\n",
       " '../data/data/en/train-articles-subtask-2\\\\article793921939.txt': 87,\n",
       " '../data/data/en/train-articles-subtask-2\\\\article794141509.txt': 140,\n",
       " '../data/data/en/train-articles-subtask-2\\\\article794344513.txt': 70,\n",
       " '../data/data/en/train-articles-subtask-2\\\\article795079843.txt': 30,\n",
       " '../data/data/en/train-articles-subtask-2\\\\article795379208.txt': 35,\n",
       " '../data/data/en/train-articles-subtask-2\\\\article795689901.txt': 21,\n",
       " '../data/data/en/train-articles-subtask-2\\\\article795693029.txt': 38,\n",
       " '../data/data/en/train-articles-subtask-2\\\\article795703371.txt': 63,\n",
       " '../data/data/en/train-articles-subtask-2\\\\article798244842.txt': 103,\n",
       " '../data/data/en/train-articles-subtask-2\\\\article814777937.txt': 65,\n",
       " '../data/data/en/train-articles-subtask-2\\\\article821744708.txt': 22,\n",
       " '../data/data/en/train-articles-subtask-2\\\\article832908730.txt': 48,\n",
       " '../data/data/en/train-articles-subtask-2\\\\article832908905.txt': 39,\n",
       " '../data/data/en/train-articles-subtask-2\\\\article832908978.txt': 24,\n",
       " '../data/data/en/train-articles-subtask-2\\\\article832910505.txt': 20,\n",
       " '../data/data/en/train-articles-subtask-2\\\\article832913316.txt': 23,\n",
       " '../data/data/en/train-articles-subtask-2\\\\article832913653.txt': 34,\n",
       " '../data/data/en/train-articles-subtask-2\\\\article832916492.txt': 20,\n",
       " '../data/data/en/train-articles-subtask-2\\\\article832916508.txt': 7,\n",
       " '../data/data/en/train-articles-subtask-2\\\\article832917532.txt': 21,\n",
       " '../data/data/en/train-articles-subtask-2\\\\article832917778.txt': 5,\n",
       " '../data/data/en/train-articles-subtask-2\\\\article832959523.txt': 58,\n",
       " '../data/data/en/train-articles-subtask-2\\\\article833032367.txt': 39,\n",
       " '../data/data/en/train-articles-subtask-2\\\\article833036489.txt': 24,\n",
       " '../data/data/en/train-articles-subtask-2\\\\article833039623.txt': 43,\n",
       " '../data/data/en/train-articles-subtask-2\\\\article833042063.txt': 16,\n",
       " '../data/data/en/train-articles-subtask-2\\\\article999000124.txt': 12,\n",
       " '../data/data/en/train-articles-subtask-2\\\\article999000125.txt': 25,\n",
       " '../data/data/en/train-articles-subtask-2\\\\article999000133.txt': 40,\n",
       " '../data/data/en/train-articles-subtask-2\\\\article999000135.txt': 37,\n",
       " '../data/data/en/train-articles-subtask-2\\\\article999000136.txt': 51,\n",
       " '../data/data/en/train-articles-subtask-2\\\\article999000142.txt': 39,\n",
       " '../data/data/en/train-articles-subtask-2\\\\article999000145.txt': 35,\n",
       " '../data/data/en/train-articles-subtask-2\\\\article999000147.txt': 36,\n",
       " '../data/data/en/train-articles-subtask-2\\\\article999000149.txt': 31,\n",
       " '../data/data/en/train-articles-subtask-2\\\\article999000154.txt': 26,\n",
       " '../data/data/en/train-articles-subtask-2\\\\article999000155.txt': 33,\n",
       " '../data/data/en/train-articles-subtask-2\\\\article999000158.txt': 51,\n",
       " '../data/data/en/train-articles-subtask-2\\\\article999000159.txt': 30,\n",
       " '../data/data/en/train-articles-subtask-2\\\\article999000184.txt': 42,\n",
       " '../data/data/en/train-articles-subtask-2\\\\article999000312.txt': 36,\n",
       " '../data/data/en/train-articles-subtask-2\\\\article999000565.txt': 9,\n",
       " '../data/data/en/train-articles-subtask-2\\\\article999000599.txt': 16,\n",
       " '../data/data/en/train-articles-subtask-2\\\\article999000675.txt': 21,\n",
       " '../data/data/en/train-articles-subtask-2\\\\article999000849.txt': 42,\n",
       " '../data/data/en/train-articles-subtask-2\\\\article999000851.txt': 30,\n",
       " '../data/data/en/train-articles-subtask-2\\\\article999000858.txt': 41,\n",
       " '../data/data/en/train-articles-subtask-2\\\\article999000870.txt': 53,\n",
       " '../data/data/en/train-articles-subtask-2\\\\article999000874.txt': 45,\n",
       " '../data/data/en/train-articles-subtask-2\\\\article999000878.txt': 62,\n",
       " '../data/data/en/train-articles-subtask-2\\\\article999000880.txt': 32,\n",
       " '../data/data/en/train-articles-subtask-2\\\\article999000894.txt': 60,\n",
       " '../data/data/en/train-articles-subtask-2\\\\article999001033.txt': 38,\n",
       " '../data/data/en/train-articles-subtask-2\\\\article999001188.txt': 32,\n",
       " '../data/data/en/train-articles-subtask-2\\\\article999001211.txt': 35,\n",
       " '../data/data/en/train-articles-subtask-2\\\\article999001226.txt': 46,\n",
       " '../data/data/en/train-articles-subtask-2\\\\article999001241.txt': 26,\n",
       " '../data/data/en/train-articles-subtask-2\\\\article999001256.txt': 46,\n",
       " '../data/data/en/train-articles-subtask-2\\\\article999001259.txt': 52,\n",
       " '../data/data/en/train-articles-subtask-2\\\\article999001280.txt': 64,\n",
       " '../data/data/en/train-articles-subtask-2\\\\article999001287.txt': 50,\n",
       " '../data/data/en/train-articles-subtask-2\\\\article999001290.txt': 70,\n",
       " '../data/data/en/train-articles-subtask-2\\\\article999001293.txt': 32,\n",
       " '../data/data/en/train-articles-subtask-2\\\\article999001296.txt': 49,\n",
       " '../data/data/en/train-articles-subtask-2\\\\article999001297.txt': 54,\n",
       " '../data/data/en/train-articles-subtask-2\\\\article999001299.txt': 61,\n",
       " '../data/data/en/train-articles-subtask-2\\\\article999001323.txt': 38,\n",
       " '../data/data/en/train-articles-subtask-2\\\\article999001419.txt': 53,\n",
       " '../data/data/en/train-articles-subtask-2\\\\article999001619.txt': 92,\n",
       " '../data/data/en/train-articles-subtask-2\\\\article999001621.txt': 132,\n",
       " '../data/data/en/train-articles-subtask-2\\\\article999001970.txt': 25}"
      ]
     },
     "execution_count": 22,
     "metadata": {},
     "output_type": "execute_result"
    }
   ],
   "source": [
    "# loop over all articles in data\\data\\en\\dev-articles-subtask-2 and count sentences\n",
    "import re\n",
    "\n",
    "def count_sentences(text):\n",
    "    \"\"\"Count the number of sentences in a text based on simple punctuation marks.\"\"\"\n",
    "    return len(re.findall(r\"[.!?]\", text))\n",
    "\n",
    "# Count sentences for each file\n",
    "sentence_counts = {}\n",
    "for file_path in txt_files:\n",
    "    with open(file_path, 'r') as f:\n",
    "        text = f.read()\n",
    "        sentence_counts[file_path] = count_sentences(text)\n",
    "\n",
    "sentence_counts\n"
   ]
  },
  {
   "cell_type": "code",
   "execution_count": 23,
   "metadata": {},
   "outputs": [
    {
     "data": {
      "text/plain": [
       "(49.043879907621246, 451, 4)"
      ]
     },
     "execution_count": 23,
     "metadata": {},
     "output_type": "execute_result"
    }
   ],
   "source": [
    "# Compute metrics based on the sentence counts\n",
    "sentence_values = list(sentence_counts.values())\n",
    "\n",
    "mean_sentences = sum(sentence_values) / len(sentence_values)\n",
    "max_sentences = max(sentence_values)\n",
    "min_sentences = min(sentence_values)\n",
    "\n",
    "mean_sentences, max_sentences, min_sentences\n"
   ]
  },
  {
   "cell_type": "markdown",
   "metadata": {},
   "source": [
    "## Visualize the data for subtask 3"
   ]
  },
  {
   "cell_type": "code",
   "execution_count": 12,
   "metadata": {},
   "outputs": [],
   "source": [
    "article_id = \"111111111\""
   ]
  },
  {
   "cell_type": "code",
   "execution_count": 13,
   "metadata": {},
   "outputs": [
    {
     "data": {
      "text/html": [
       "<div>\n",
       "<style scoped>\n",
       "    .dataframe tbody tr th:only-of-type {\n",
       "        vertical-align: middle;\n",
       "    }\n",
       "\n",
       "    .dataframe tbody tr th {\n",
       "        vertical-align: top;\n",
       "    }\n",
       "\n",
       "    .dataframe thead th {\n",
       "        text-align: right;\n",
       "    }\n",
       "</style>\n",
       "<table border=\"1\" class=\"dataframe\">\n",
       "  <thead>\n",
       "    <tr style=\"text-align: right;\">\n",
       "      <th></th>\n",
       "      <th>article_id</th>\n",
       "      <th>sentence_id</th>\n",
       "      <th>label</th>\n",
       "    </tr>\n",
       "  </thead>\n",
       "  <tbody>\n",
       "    <tr>\n",
       "      <th>0</th>\n",
       "      <td>111111111</td>\n",
       "      <td>1</td>\n",
       "      <td>NaN</td>\n",
       "    </tr>\n",
       "    <tr>\n",
       "      <th>1</th>\n",
       "      <td>111111111</td>\n",
       "      <td>3</td>\n",
       "      <td>Doubt</td>\n",
       "    </tr>\n",
       "    <tr>\n",
       "      <th>2</th>\n",
       "      <td>111111111</td>\n",
       "      <td>5</td>\n",
       "      <td>Appeal_to_Authority</td>\n",
       "    </tr>\n",
       "    <tr>\n",
       "      <th>3</th>\n",
       "      <td>111111111</td>\n",
       "      <td>7</td>\n",
       "      <td>NaN</td>\n",
       "    </tr>\n",
       "    <tr>\n",
       "      <th>4</th>\n",
       "      <td>111111111</td>\n",
       "      <td>9</td>\n",
       "      <td>NaN</td>\n",
       "    </tr>\n",
       "  </tbody>\n",
       "</table>\n",
       "</div>"
      ],
      "text/plain": [
       "   article_id  sentence_id                label\n",
       "0   111111111            1                  NaN\n",
       "1   111111111            3                Doubt\n",
       "2   111111111            5  Appeal_to_Authority\n",
       "3   111111111            7                  NaN\n",
       "4   111111111            9                  NaN"
      ]
     },
     "execution_count": 13,
     "metadata": {},
     "output_type": "execute_result"
    }
   ],
   "source": [
    "# read the csv file /data/data/en/train-labels-subtask-3.txt the label for the article\n",
    "\n",
    "def read_task3_label(path):\n",
    "    df = pd.read_csv(path, sep='\\t', header=None)\n",
    "    df.columns = ['article_id', 'sentence_id', 'label']\n",
    "    return df\n",
    "\n",
    "task3_df = read_task3_label(f\"../data/data/en/train-labels-subtask-3.txt\")\n",
    "task3_df.head()"
   ]
  },
  {
   "cell_type": "code",
   "execution_count": 14,
   "metadata": {},
   "outputs": [
    {
     "data": {
      "text/plain": [
       "0                                              NaN\n",
       "1                                            Doubt\n",
       "2                              Appeal_to_Authority\n",
       "3                                              NaN\n",
       "4                                              NaN\n",
       "5                                              NaN\n",
       "6                                       Repetition\n",
       "7                                              NaN\n",
       "8                         Appeal_to_Fear-Prejudice\n",
       "9                         Appeal_to_Fear-Prejudice\n",
       "10                                             NaN\n",
       "11    Appeal_to_Authority,Appeal_to_Fear-Prejudice\n",
       "12                        Appeal_to_Fear-Prejudice\n",
       "13                                             NaN\n",
       "14                                             NaN\n",
       "Name: label, dtype: object"
      ]
     },
     "execution_count": 14,
     "metadata": {},
     "output_type": "execute_result"
    }
   ],
   "source": [
    "# get the label for the article\n",
    "task3_df[task3_df['article_id'] == int(article_id)]['label']"
   ]
  },
  {
   "cell_type": "code",
   "execution_count": 15,
   "metadata": {},
   "outputs": [
    {
     "name": "stdout",
     "output_type": "stream",
     "text": [
      "nan - Geneva - The World Health Organisation chief on Wednesday said a deadly plague epidemic appeared to have been brought under control in Madagascar, but warned the next outbreak would likely be stronger.\n",
      "\n",
      "nan - \n",
      "\n",
      "Doubt - \"The next transmission could be more pronounced or stronger,\" WHO Director-General Tedros Adhanom Ghebreyesus told reporters in Geneva, insisting that \"the issue is serious.\"\n",
      "\n",
      "Appeal_to_Authority - \n",
      "\n",
      "nan - An outbreak of both bubonic plague, which is spread by infected rats via flea bites, and pneumonic plague, spread person to person, has killed more than 200 people in the Indian Ocean island nation since August.\n",
      "\n",
      "nan - \n",
      "\n",
      "nan - Madagascar has suffered bubonic plague outbreaks almost every year since 1980, often caused by rats fleeing forest fires.\n",
      "\n",
      "Repetition - \n",
      "\n",
      "nan - The disease tends to make a comeback each hot rainy season, from September to April. On average, between 300 and 600 infections are recorded every year among a population approaching 25 million people, according to a UN estimate.\n",
      "\n",
      "Appeal_to_Fear-Prejudice - \n",
      "\n",
      "Appeal_to_Fear-Prejudice - But Tedros voiced alarm that \"plague in Madagascar behaved in a very, very different way this year.\"\n",
      "\n",
      "nan - \n",
      "\n",
      "Appeal_to_Authority,Appeal_to_Fear-Prejudice - Cases sprang up far earlier than usual and, instead of being confined to the countryside, the disease infiltrated towns. The authorities recorded more than 2 000 cases, and Tedros said Wednesday the death toll stood at 207.\n",
      "\n",
      "Appeal_to_Fear-Prejudice - \n",
      "\n",
      "nan - He also pointed to the presence of the pneumonic version, which spreads more easily and is more virulent, in the latest outbreak.\n",
      "\n",
      "nan - \n",
      "\n"
     ]
    },
    {
     "ename": "IndexError",
     "evalue": "index 15 is out of bounds for axis 0 with size 15",
     "output_type": "error",
     "traceback": [
      "\u001b[1;31m---------------------------------------------------------------------------\u001b[0m",
      "\u001b[1;31mIndexError\u001b[0m                                Traceback (most recent call last)",
      "\u001b[1;32mc:\\Users\\elias\\Documents\\Git\\MasterThesis\\notebooks\\data-visualization.ipynb Cell 19\u001b[0m line \u001b[0;36m9\n\u001b[0;32m      <a href='vscode-notebook-cell:/c%3A/Users/elias/Documents/Git/MasterThesis/notebooks/data-visualization.ipynb#X24sZmlsZQ%3D%3D?line=5'>6</a>\u001b[0m     \u001b[39mfor\u001b[39;00m i, sentence \u001b[39min\u001b[39;00m \u001b[39menumerate\u001b[39m(content):\n\u001b[0;32m      <a href='vscode-notebook-cell:/c%3A/Users/elias/Documents/Git/MasterThesis/notebooks/data-visualization.ipynb#X24sZmlsZQ%3D%3D?line=6'>7</a>\u001b[0m         \u001b[39mprint\u001b[39m(\u001b[39mf\u001b[39m\u001b[39m\"\u001b[39m\u001b[39m{\u001b[39;00mlabel[i\u001b[39m-\u001b[39m\u001b[39m1\u001b[39m]\u001b[39m}\u001b[39;00m\u001b[39m - \u001b[39m\u001b[39m{\u001b[39;00msentence\u001b[39m}\u001b[39;00m\u001b[39m\"\u001b[39m)\n\u001b[1;32m----> <a href='vscode-notebook-cell:/c%3A/Users/elias/Documents/Git/MasterThesis/notebooks/data-visualization.ipynb#X24sZmlsZQ%3D%3D?line=8'>9</a>\u001b[0m print_sentence_with_label(content, task3_df[task3_df[\u001b[39m'\u001b[39;49m\u001b[39marticle_id\u001b[39;49m\u001b[39m'\u001b[39;49m] \u001b[39m==\u001b[39;49m \u001b[39mint\u001b[39;49m(article_id)][\u001b[39m'\u001b[39;49m\u001b[39mlabel\u001b[39;49m\u001b[39m'\u001b[39;49m]\u001b[39m.\u001b[39;49mvalues)\n",
      "\u001b[1;32mc:\\Users\\elias\\Documents\\Git\\MasterThesis\\notebooks\\data-visualization.ipynb Cell 19\u001b[0m line \u001b[0;36m7\n\u001b[0;32m      <a href='vscode-notebook-cell:/c%3A/Users/elias/Documents/Git/MasterThesis/notebooks/data-visualization.ipynb#X24sZmlsZQ%3D%3D?line=4'>5</a>\u001b[0m \u001b[39mdef\u001b[39;00m \u001b[39mprint_sentence_with_label\u001b[39m(content, label):\n\u001b[0;32m      <a href='vscode-notebook-cell:/c%3A/Users/elias/Documents/Git/MasterThesis/notebooks/data-visualization.ipynb#X24sZmlsZQ%3D%3D?line=5'>6</a>\u001b[0m     \u001b[39mfor\u001b[39;00m i, sentence \u001b[39min\u001b[39;00m \u001b[39menumerate\u001b[39m(content):\n\u001b[1;32m----> <a href='vscode-notebook-cell:/c%3A/Users/elias/Documents/Git/MasterThesis/notebooks/data-visualization.ipynb#X24sZmlsZQ%3D%3D?line=6'>7</a>\u001b[0m         \u001b[39mprint\u001b[39m(\u001b[39mf\u001b[39m\u001b[39m\"\u001b[39m\u001b[39m{\u001b[39;00mlabel[i\u001b[39m-\u001b[39;49m\u001b[39m1\u001b[39;49m]\u001b[39m}\u001b[39;00m\u001b[39m - \u001b[39m\u001b[39m{\u001b[39;00msentence\u001b[39m}\u001b[39;00m\u001b[39m\"\u001b[39m)\n",
      "\u001b[1;31mIndexError\u001b[0m: index 15 is out of bounds for axis 0 with size 15"
     ]
    }
   ],
   "source": [
    "# each sentence id shows which sentence is meant by the label. Print out each sentence with label - sentence\n",
    "\n",
    "# take the content variable which has a list of the sentences and print out the sentence with the label\n",
    "\n",
    "def print_sentence_with_label(content, label):\n",
    "    for i, sentence in enumerate(content):\n",
    "        print(f\"{label[i-1]} - {sentence}\")\n",
    "\n",
    "print_sentence_with_label(content, task3_df[task3_df['article_id'] == int(article_id)]['label'].values)"
   ]
  },
  {
   "cell_type": "markdown",
   "metadata": {},
   "source": [
    "## Visualize the data for subtask 3 (span)"
   ]
  },
  {
   "cell_type": "code",
   "execution_count": 45,
   "metadata": {},
   "outputs": [],
   "source": [
    "article_id = \"111111111\""
   ]
  },
  {
   "cell_type": "code",
   "execution_count": 46,
   "metadata": {},
   "outputs": [
    {
     "data": {
      "text/html": [
       "<div>\n",
       "<style scoped>\n",
       "    .dataframe tbody tr th:only-of-type {\n",
       "        vertical-align: middle;\n",
       "    }\n",
       "\n",
       "    .dataframe tbody tr th {\n",
       "        vertical-align: top;\n",
       "    }\n",
       "\n",
       "    .dataframe thead th {\n",
       "        text-align: right;\n",
       "    }\n",
       "</style>\n",
       "<table border=\"1\" class=\"dataframe\">\n",
       "  <thead>\n",
       "    <tr style=\"text-align: right;\">\n",
       "      <th></th>\n",
       "      <th>article_id</th>\n",
       "      <th>label</th>\n",
       "      <th>start</th>\n",
       "      <th>end</th>\n",
       "    </tr>\n",
       "  </thead>\n",
       "  <tbody>\n",
       "    <tr>\n",
       "      <th>0</th>\n",
       "      <td>111111111</td>\n",
       "      <td>Doubt</td>\n",
       "      <td>149</td>\n",
       "      <td>157</td>\n",
       "    </tr>\n",
       "    <tr>\n",
       "      <th>1</th>\n",
       "      <td>111111111</td>\n",
       "      <td>Appeal_to_Authority</td>\n",
       "      <td>265</td>\n",
       "      <td>323</td>\n",
       "    </tr>\n",
       "    <tr>\n",
       "      <th>2</th>\n",
       "      <td>111111111</td>\n",
       "      <td>Repetition</td>\n",
       "      <td>1069</td>\n",
       "      <td>1091</td>\n",
       "    </tr>\n",
       "    <tr>\n",
       "      <th>3</th>\n",
       "      <td>111111111</td>\n",
       "      <td>Appeal_to_Fear-Prejudice</td>\n",
       "      <td>1334</td>\n",
       "      <td>1462</td>\n",
       "    </tr>\n",
       "    <tr>\n",
       "      <th>4</th>\n",
       "      <td>111111111</td>\n",
       "      <td>Appeal_to_Fear-Prejudice</td>\n",
       "      <td>1577</td>\n",
       "      <td>1616</td>\n",
       "    </tr>\n",
       "  </tbody>\n",
       "</table>\n",
       "</div>"
      ],
      "text/plain": [
       "   article_id                     label  start   end\n",
       "0   111111111                     Doubt    149   157\n",
       "1   111111111       Appeal_to_Authority    265   323\n",
       "2   111111111                Repetition   1069  1091\n",
       "3   111111111  Appeal_to_Fear-Prejudice   1334  1462\n",
       "4   111111111  Appeal_to_Fear-Prejudice   1577  1616"
      ]
     },
     "execution_count": 46,
     "metadata": {},
     "output_type": "execute_result"
    }
   ],
   "source": [
    "# read the csv data\\data\\en\\dev-labels-subtask-3-spans\\article{aticle_id}-labels-subtask-3.txt the label for the article\n",
    "\n",
    "def read_task3_span_label(path):\n",
    "    df = pd.read_csv(path, sep='\\t', header=None)\n",
    "    df.columns = ['article_id', 'label', 'start', 'end']\n",
    "    return df\n",
    "\n",
    "task3_span_df = read_task3_span_label(f\"../data/data/en/train-labels-subtask-3-spans/article{article_id}-labels-subtask-3.txt\")\n",
    "task3_span_df.head()"
   ]
  },
  {
   "cell_type": "code",
   "execution_count": 47,
   "metadata": {},
   "outputs": [
    {
     "data": {
      "text/html": [
       "<div>\n",
       "<style scoped>\n",
       "    .dataframe tbody tr th:only-of-type {\n",
       "        vertical-align: middle;\n",
       "    }\n",
       "\n",
       "    .dataframe tbody tr th {\n",
       "        vertical-align: top;\n",
       "    }\n",
       "\n",
       "    .dataframe thead th {\n",
       "        text-align: right;\n",
       "    }\n",
       "</style>\n",
       "<table border=\"1\" class=\"dataframe\">\n",
       "  <thead>\n",
       "    <tr style=\"text-align: right;\">\n",
       "      <th></th>\n",
       "      <th>article_id</th>\n",
       "      <th>label</th>\n",
       "      <th>start</th>\n",
       "      <th>end</th>\n",
       "    </tr>\n",
       "  </thead>\n",
       "  <tbody>\n",
       "    <tr>\n",
       "      <th>0</th>\n",
       "      <td>111111111</td>\n",
       "      <td>Doubt</td>\n",
       "      <td>149</td>\n",
       "      <td>157</td>\n",
       "    </tr>\n",
       "    <tr>\n",
       "      <th>1</th>\n",
       "      <td>111111111</td>\n",
       "      <td>Appeal_to_Authority</td>\n",
       "      <td>265</td>\n",
       "      <td>323</td>\n",
       "    </tr>\n",
       "    <tr>\n",
       "      <th>2</th>\n",
       "      <td>111111111</td>\n",
       "      <td>Repetition</td>\n",
       "      <td>1069</td>\n",
       "      <td>1091</td>\n",
       "    </tr>\n",
       "    <tr>\n",
       "      <th>3</th>\n",
       "      <td>111111111</td>\n",
       "      <td>Appeal_to_Fear-Prejudice</td>\n",
       "      <td>1334</td>\n",
       "      <td>1462</td>\n",
       "    </tr>\n",
       "    <tr>\n",
       "      <th>4</th>\n",
       "      <td>111111111</td>\n",
       "      <td>Appeal_to_Fear-Prejudice</td>\n",
       "      <td>1577</td>\n",
       "      <td>1616</td>\n",
       "    </tr>\n",
       "    <tr>\n",
       "      <th>5</th>\n",
       "      <td>111111111</td>\n",
       "      <td>Appeal_to_Authority</td>\n",
       "      <td>1795</td>\n",
       "      <td>1935</td>\n",
       "    </tr>\n",
       "    <tr>\n",
       "      <th>6</th>\n",
       "      <td>111111111</td>\n",
       "      <td>Appeal_to_Fear-Prejudice</td>\n",
       "      <td>1856</td>\n",
       "      <td>1910</td>\n",
       "    </tr>\n",
       "    <tr>\n",
       "      <th>7</th>\n",
       "      <td>111111111</td>\n",
       "      <td>Appeal_to_Fear-Prejudice</td>\n",
       "      <td>2023</td>\n",
       "      <td>2086</td>\n",
       "    </tr>\n",
       "  </tbody>\n",
       "</table>\n",
       "</div>"
      ],
      "text/plain": [
       "   article_id                     label  start   end\n",
       "0   111111111                     Doubt    149   157\n",
       "1   111111111       Appeal_to_Authority    265   323\n",
       "2   111111111                Repetition   1069  1091\n",
       "3   111111111  Appeal_to_Fear-Prejudice   1334  1462\n",
       "4   111111111  Appeal_to_Fear-Prejudice   1577  1616\n",
       "5   111111111       Appeal_to_Authority   1795  1935\n",
       "6   111111111  Appeal_to_Fear-Prejudice   1856  1910\n",
       "7   111111111  Appeal_to_Fear-Prejudice   2023  2086"
      ]
     },
     "execution_count": 47,
     "metadata": {},
     "output_type": "execute_result"
    }
   ],
   "source": [
    "# get the label for the article\n",
    "task3_span_df[task3_span_df['article_id'] == int(article_id)]"
   ]
  },
  {
   "cell_type": "code",
   "execution_count": 51,
   "metadata": {},
   "outputs": [],
   "source": [
    "# give each label a color, color the defined span in the content and give a legend where the colors are defined\n",
    "from IPython.display import Markdown, display\n",
    "# create a dict which defines each label with a color based on label name in task3_span_df\n",
    "\n",
    "def create_label_color_dict(df):\n",
    "    labels = df['label'].unique()\n",
    "    colors = sns.color_palette(\"hls\", len(labels))\n",
    "    return dict(zip(labels, colors))\n",
    "\n",
    "# take color_dict, text, label, start and end as function input and return colored text\n",
    "\n",
    "def color_text(color_dict, text, label, start, end):\n",
    "    color = color_dict[label]\n",
    "    colored_text = f\"<span style='color:rgb({int(color[0]*255)},{int(color[1]*255)},{int(color[2]*255)}'>{text[start:end]}</span>\"\n",
    "    display(Markdown(colored_text))\n",
    "\n",
    "# sample\n",
    "color_dict = create_label_color_dict(task3_span_df)\n"
   ]
  },
  {
   "cell_type": "code",
   "execution_count": 52,
   "metadata": {},
   "outputs": [],
   "source": [
    "from IPython.display import Markdown, display\n",
    "\n",
    "def display_colored_text(title, content, task3_span_df, article_id, color_dict, active_selection):\n",
    "    text = title + \" \" + \"\".join(content)\n",
    "    colored_spans = []\n",
    "\n",
    "    # Initialize a list to keep track of the span positions that have already been covered\n",
    "    covered_positions = []\n",
    "\n",
    "    # Iterate over the rows of the DataFrame and add the colored spans to the list\n",
    "    for index, row in task3_span_df[task3_span_df['article_id'] == int(article_id)].iterrows():\n",
    "        label = row['label']\n",
    "        start = row['start']\n",
    "        end = row['end']\n",
    "\n",
    "        # Check if this span overlaps with any previously covered span\n",
    "        overlap = any(start < end_prev and end > start_prev for start_prev, end_prev in covered_positions)\n",
    "\n",
    "        # If it doesn't overlap, process and add the colored span\n",
    "        if not overlap:\n",
    "            color = color_dict[label]\n",
    "            # Create a span with the appropriate color\n",
    "            colored_span = f\"<span style='color:rgb({int(color[0]*255)},{int(color[1]*255)},{int(color[2]*255)});'>{text[start:end]}</span>\"\n",
    "            colored_spans.append((start, end, colored_span))\n",
    "\n",
    "        # Add the span's positions to the list of covered positions\n",
    "        covered_positions.append((start, end))\n",
    "\n",
    "    # Sort the colored spans by their start position\n",
    "    colored_spans.sort(key=lambda x: x[0])\n",
    "\n",
    "    # Combine all the colored spans into a single string\n",
    "    colored_text = \"\"\n",
    "    current_position = 0\n",
    "\n",
    "    for start, end, span in colored_spans:\n",
    "        # Append the uncolored text between the current position and the start of the colored span\n",
    "        colored_text += text[current_position:start]\n",
    "        colored_text += span\n",
    "        current_position = end\n",
    "\n",
    "    # Append any remaining uncolored text\n",
    "    colored_text += text[current_position:]\n",
    "\n",
    "    # Display the colored text and legend\n",
    "    display(Markdown(colored_text))\n",
    "    display(Markdown(\"### Legend\"))\n",
    "    for label, color in color_dict.items():\n",
    "        display(Markdown(f\"<span style='color:rgb({int(color[0]*255)},{int(color[1]*255)},{int(color[2]*255)});'>{label}</span>\"))\n",
    "\n",
    "    # Display the active selection\n",
    "    if active_selection:\n",
    "        display(Markdown(\"### Active Selection\"))\n",
    "        display(active_selection)\n"
   ]
  },
  {
   "cell_type": "code",
   "execution_count": 53,
   "metadata": {},
   "outputs": [
    {
     "data": {
      "text/markdown": [
       "Next plague outbreak in Madagascar could be 'stronger': WHO\n",
       " Geneva - The World Health Organisation chief on Wednesday said a deadly plague epidemic <span style='color:rgb(219,94,86);'>appeared</span> to have been brought under control in Madagascar, but warned the next outbreak would likely be stronger.\n",
       "\n",
       "\"<span style='color:rgb(145,219,86);'>The next transmission could be more pronounced or stronger</span>,\" WHO Director-General Tedros Adhanom Ghebreyesus told reporters in Geneva, insisting that \"the issue is serious.\"\n",
       "\n",
       "An outbreak of both bubonic plague, which is spread by infected rats via flea bites, and pneumonic plague, spread person to person, has killed more than 200 people in the Indian Ocean island nation since August.\n",
       "\n",
       "Madagascar has suffered bubonic plague outbreaks almost every year since 1980, often caused by rats fleeing forest fires.\n",
       "\n",
       "The disease tends to make a comeback each hot rainy season, from September to April. On average, between 300 and 600 infections are recorded every year among a population approaching 25 million people, according to a UN estimate.\n",
       "\n",
       "But Tedros voiced alarm that \"plague in Madagascar behaved in <span style='color:rgb(86,211,219);'>a very, very different</span> way this year.\"\n",
       "\n",
       "Cases sprang up far earlier than usual and, instead of being confined to the countryside, the disease infiltrated towns. The authorities recorded more than 2 000 cases, and Tedros said Wednesday the death toll stood at 207.\n",
       "\n",
       "<span style='color:rgb(160,86,219);'>He also pointed to the presence of the pneumonic version, which spreads more easily and is more virulent, in the latest outbreak</span>.\n",
       "\n",
       "He praised the rapid response from WHO and Madagascar authorities that helped bring the outbreak under control, <span style='color:rgb(160,86,219);'>but warned that the danger was not over</span>.\n",
       "\n",
       "The larger-than-usual outbreak had helped spread the bacteria that causes the plague more widely.\n",
       "\n",
       "This along with poor sanitation and vector control on Madagascar meant that \"<span style='color:rgb(145,219,86);'>when (the plague) comes again it starts from more stock, and the magnitude in the next transmission could be higher than the one that we saw</span>,\" Tedros said.\n",
       "\n",
       "\"That means that Madagascar could be affected more, and not only that, <span style='color:rgb(160,86,219);'>it could even spill over into neighbouring countries and beyond</span>,\" he warned.\n",
       "\n",
       "Complicating vector control is the fact that the fleas that carry the Yersinia pestis bacteria that causes the plague have proven to be widely resistant to chemicals and insecticides.\n",
       "\n",
       "\"That's a dangerous combination,\" Tedros said.\n"
      ],
      "text/plain": [
       "<IPython.core.display.Markdown object>"
      ]
     },
     "metadata": {},
     "output_type": "display_data"
    },
    {
     "data": {
      "text/markdown": [
       "### Legend"
      ],
      "text/plain": [
       "<IPython.core.display.Markdown object>"
      ]
     },
     "metadata": {},
     "output_type": "display_data"
    },
    {
     "data": {
      "text/markdown": [
       "<span style='color:rgb(219,94,86);'>Doubt</span>"
      ],
      "text/plain": [
       "<IPython.core.display.Markdown object>"
      ]
     },
     "metadata": {},
     "output_type": "display_data"
    },
    {
     "data": {
      "text/markdown": [
       "<span style='color:rgb(145,219,86);'>Appeal_to_Authority</span>"
      ],
      "text/plain": [
       "<IPython.core.display.Markdown object>"
      ]
     },
     "metadata": {},
     "output_type": "display_data"
    },
    {
     "data": {
      "text/markdown": [
       "<span style='color:rgb(86,211,219);'>Repetition</span>"
      ],
      "text/plain": [
       "<IPython.core.display.Markdown object>"
      ]
     },
     "metadata": {},
     "output_type": "display_data"
    },
    {
     "data": {
      "text/markdown": [
       "<span style='color:rgb(160,86,219);'>Appeal_to_Fear-Prejudice</span>"
      ],
      "text/plain": [
       "<IPython.core.display.Markdown object>"
      ]
     },
     "metadata": {},
     "output_type": "display_data"
    }
   ],
   "source": [
    "active_selection = None\n",
    "display_colored_text(title, content, task3_span_df, article_id, color_dict, active_selection)"
   ]
  },
  {
   "cell_type": "code",
   "execution_count": 67,
   "metadata": {},
   "outputs": [],
   "source": [
    "# get a set of all span labels used in the all articles\n",
    "\n",
    "# read csv data\\data\\en\\train-labels-subtask-3.txt\n",
    "\n",
    "span_df = pd.read_csv(f\"../data/data/en/train-labels-subtask-3.txt\", sep='\\t', header=None)\n",
    "span_df.columns = ['article_id', 'sentence_id', 'label']\n",
    "\n",
    "# split label column after , if there are multiple labels\n",
    "span_df['label'] = span_df['label'].apply(lambda x: x.split(',') if type(x) == str else x)"
   ]
  },
  {
   "cell_type": "code",
   "execution_count": 69,
   "metadata": {},
   "outputs": [
    {
     "data": {
      "text/html": [
       "<div>\n",
       "<style scoped>\n",
       "    .dataframe tbody tr th:only-of-type {\n",
       "        vertical-align: middle;\n",
       "    }\n",
       "\n",
       "    .dataframe tbody tr th {\n",
       "        vertical-align: top;\n",
       "    }\n",
       "\n",
       "    .dataframe thead th {\n",
       "        text-align: right;\n",
       "    }\n",
       "</style>\n",
       "<table border=\"1\" class=\"dataframe\">\n",
       "  <thead>\n",
       "    <tr style=\"text-align: right;\">\n",
       "      <th></th>\n",
       "      <th>article_id</th>\n",
       "      <th>sentence_id</th>\n",
       "      <th>label</th>\n",
       "    </tr>\n",
       "  </thead>\n",
       "  <tbody>\n",
       "    <tr>\n",
       "      <th>0</th>\n",
       "      <td>111111111</td>\n",
       "      <td>1</td>\n",
       "      <td>NaN</td>\n",
       "    </tr>\n",
       "    <tr>\n",
       "      <th>1</th>\n",
       "      <td>111111111</td>\n",
       "      <td>3</td>\n",
       "      <td>[Doubt]</td>\n",
       "    </tr>\n",
       "    <tr>\n",
       "      <th>2</th>\n",
       "      <td>111111111</td>\n",
       "      <td>5</td>\n",
       "      <td>[Appeal_to_Authority]</td>\n",
       "    </tr>\n",
       "    <tr>\n",
       "      <th>3</th>\n",
       "      <td>111111111</td>\n",
       "      <td>7</td>\n",
       "      <td>NaN</td>\n",
       "    </tr>\n",
       "    <tr>\n",
       "      <th>4</th>\n",
       "      <td>111111111</td>\n",
       "      <td>9</td>\n",
       "      <td>NaN</td>\n",
       "    </tr>\n",
       "  </tbody>\n",
       "</table>\n",
       "</div>"
      ],
      "text/plain": [
       "   article_id  sentence_id                  label\n",
       "0   111111111            1                    NaN\n",
       "1   111111111            3                [Doubt]\n",
       "2   111111111            5  [Appeal_to_Authority]\n",
       "3   111111111            7                    NaN\n",
       "4   111111111            9                    NaN"
      ]
     },
     "execution_count": 69,
     "metadata": {},
     "output_type": "execute_result"
    }
   ],
   "source": [
    "span_df.head()"
   ]
  },
  {
   "cell_type": "code",
   "execution_count": 78,
   "metadata": {},
   "outputs": [],
   "source": [
    "# get all labels and unpack list of labels\n",
    "all_labels = span_df.label.values.tolist()\n",
    "all_labels\n",
    "\n",
    "# unpack list of lists\n",
    "for i, labels in enumerate(all_labels):\n",
    "    if type(labels) == list:\n",
    "        all_labels[i] = labels[0]"
   ]
  },
  {
   "cell_type": "code",
   "execution_count": 83,
   "metadata": {},
   "outputs": [
    {
     "data": {
      "text/plain": [
       "{'Appeal_to_Authority',\n",
       " 'Appeal_to_Fear-Prejudice',\n",
       " 'Appeal_to_Hypocrisy',\n",
       " 'Appeal_to_Popularity',\n",
       " 'Causal_Oversimplification',\n",
       " 'Conversation_Killer',\n",
       " 'Doubt',\n",
       " 'Exaggeration-Minimisation',\n",
       " 'False_Dilemma-No_Choice',\n",
       " 'Flag_Waving',\n",
       " 'Guilt_by_Association',\n",
       " 'Loaded_Language',\n",
       " 'Name_Calling-Labeling',\n",
       " 'Obfuscation-Vagueness-Confusion',\n",
       " 'Red_Herring',\n",
       " 'Repetition',\n",
       " 'Slogans',\n",
       " 'Straw_Man',\n",
       " 'Whataboutism',\n",
       " nan}"
      ]
     },
     "execution_count": 83,
     "metadata": {},
     "output_type": "execute_result"
    }
   ],
   "source": [
    "set(all_labels)"
   ]
  }
 ],
 "metadata": {
  "kernelspec": {
   "display_name": "Python 3",
   "language": "python",
   "name": "python3"
  },
  "language_info": {
   "codemirror_mode": {
    "name": "ipython",
    "version": 3
   },
   "file_extension": ".py",
   "mimetype": "text/x-python",
   "name": "python",
   "nbconvert_exporter": "python",
   "pygments_lexer": "ipython3",
   "version": "3.10.13"
  },
  "orig_nbformat": 4
 },
 "nbformat": 4,
 "nbformat_minor": 2
}
