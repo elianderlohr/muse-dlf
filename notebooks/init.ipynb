{
 "cells": [
  {
   "cell_type": "code",
   "execution_count": 1,
   "metadata": {},
   "outputs": [],
   "source": [
    "import pandas as pd\n",
    "import seaborn as sns"
   ]
  },
  {
   "cell_type": "code",
   "execution_count": 2,
   "metadata": {},
   "outputs": [
    {
     "name": "stdout",
     "output_type": "stream",
     "text": [
      "../data/data/en\\dev-articles-subtask-1: 83 files\n",
      "../data/data/en\\dev-articles-subtask-2: 83 files\n",
      "../data/data/en\\dev-articles-subtask-3: 90 files\n",
      "../data/data/en\\dev-labels-subtask-3: 180 files\n",
      "../data/data/en\\dev-labels-subtask-3-spans: 90 files\n",
      "../data/data/en\\test-articles-subtask-1: 54 files\n",
      "../data/data/en\\test-articles-subtask-2: 54 files\n",
      "../data/data/en\\test-articles-subtask-3: 54 files\n",
      "../data/data/en\\train-articles-subtask-1: 433 files\n",
      "../data/data/en\\train-articles-subtask-2: 433 files\n",
      "../data/data/en\\train-articles-subtask-3: 447 files\n",
      "../data/data/en\\train-labels-subtask-3: 892 files\n",
      "../data/data/en\\train-labels-subtask-3-spans: 446 files\n"
     ]
    },
    {
     "data": {
      "text/plain": [
       "3339"
      ]
     },
     "execution_count": 2,
     "metadata": {},
     "output_type": "execute_result"
    }
   ],
   "source": [
    "import os\n",
    "\n",
    "def count_files(path):\n",
    "    count = 0\n",
    "    for folder, subfolders, files in os.walk(path):\n",
    "        for subfolder in subfolders:\n",
    "            subfolder_path = os.path.join(folder, subfolder)\n",
    "            file_count = len(os.listdir(subfolder_path))\n",
    "            count += file_count\n",
    "            print(f\"{subfolder_path}: {file_count} files\")\n",
    "    return count\n",
    "\n",
    "count_files('../data/data/en')"
   ]
  },
  {
   "cell_type": "markdown",
   "metadata": {},
   "source": [
    "## Visualize the data for subtask 1"
   ]
  },
  {
   "cell_type": "code",
   "execution_count": 3,
   "metadata": {},
   "outputs": [],
   "source": [
    "article_id = \"813452859\""
   ]
  },
  {
   "cell_type": "code",
   "execution_count": 4,
   "metadata": {},
   "outputs": [
    {
     "name": "stdout",
     "output_type": "stream",
     "text": [
      "EU Profits From Trading With UK While London Loses Money – Political Campaigner\n",
      "\n",
      "['With the Parliamentary vote on British Prime Minister Theresa May’s Brexit plan set to be held next month; President of the European Commission Jean Claude Juncker has criticised the UK’s preparations for their departure from the EU.\\n', \"But is there any chance that May's deal will make it through parliament and if it fails, how could this ongoing political deadlock finally come to an end?\\n\", 'Sputnik spoke with political campaigner Michael Swadling for more…\\n', 'Sputnik: Does Theresa May have any chance of getting her deal through Parliament on the 14th January?\\n', 'Michael Swadling: I guess her only chance is if Labour decides that they want to dishonour democracy and effectively keep us in the EU.\\n', \"© AP Photo / Pablo Martinez Monsivais UK 'In Need of Leadership', May's Brexit Deal Unwelcome to Trump - US Ambassador\\n\", \"There is a chance; as unfortunately there are many MPs who don't respect the vote and may just turn on it, but short of that I don't see any way the Conservatives would vote for it, and the majority is slender as it is, as the DUP is bitterly against it, and I can't see the Lib Dems voting for it, so it will only be if there are enough, what I can describe as remoaner MPs, that the deal won't be dead in the water.\\n\", \"Sputnik: What could be a solution to the political chaos if the Prime Minister's deal is not approved?\\n\", \"Michael Swadling: The EU withdrawal act is in place; we'll leave and revert to WTO terms and that works, that's fine.\\n\", \"I often use the example of an iPhone to people; that's a piece of technology which is manufactured in China, uses American technology and these are two countries we deal with on WTO terms, this isn't a fantasy, stuck in a port somewhere, there isn't a massive tariff, this is the world that really exists today.\\n\", 'When we exit the EU on WTO terms; that will be fine for whatever trading we do with the EU, just as well as it does for our trade in China.READ MORE: UK Finance Chief Bashed for Failing to Unlock Money for No-Deal Brexit — Reports\\n', 'Sputnik: Do you think that the EU needs the UK more than the UK needs the EU?\\n', 'Michael Swadling: The EU makes a profit on its trade with the UK; the UK makes a loss on its trade with the EU.\\n', 'They have a financial incentive to ensure that good trading relations continue far more than we do.\\n', \"© REUTERS / Toby Melville UK Trade Minister Says '50-50' Chance Brexit Will Not Happen – Reports\\n\", 'The lifeblood and cash flow that keeps manufacturing in Europe going, comes from the city of London.\\n', \"If someone in a city in Germany wants to do a deal with someone in Japan; the financial services of that are probably going through the city of London, they're not going through Frankfurt and Paris.\\n\", 'Views and opinions, expressed in the article are those of Michael Swadling and do not necessarily reflect those of Sputnik\\n', '\\n']\n"
     ]
    }
   ],
   "source": [
    "# read the article line 1 is the title, line 2 is the content\n",
    "\n",
    "def read_article(path):\n",
    "    with open(path, 'r', encoding='utf-8') as file:\n",
    "        lines = file.readlines()\n",
    "        title = lines[0]\n",
    "        content = lines[2:]\n",
    "        return title, content\n",
    "    \n",
    "title, content = read_article(f\"../data/data/en/dev-articles-subtask-1/article{article_id}.txt\")\n",
    "\n",
    "print(title)\n",
    "print(content)"
   ]
  },
  {
   "cell_type": "code",
   "execution_count": 5,
   "metadata": {},
   "outputs": [
    {
     "data": {
      "text/html": [
       "<div>\n",
       "<style scoped>\n",
       "    .dataframe tbody tr th:only-of-type {\n",
       "        vertical-align: middle;\n",
       "    }\n",
       "\n",
       "    .dataframe tbody tr th {\n",
       "        vertical-align: top;\n",
       "    }\n",
       "\n",
       "    .dataframe thead th {\n",
       "        text-align: right;\n",
       "    }\n",
       "</style>\n",
       "<table border=\"1\" class=\"dataframe\">\n",
       "  <thead>\n",
       "    <tr style=\"text-align: right;\">\n",
       "      <th></th>\n",
       "      <th>article_id</th>\n",
       "      <th>label</th>\n",
       "    </tr>\n",
       "  </thead>\n",
       "  <tbody>\n",
       "    <tr>\n",
       "      <th>0</th>\n",
       "      <td>820791520</td>\n",
       "      <td>reporting</td>\n",
       "    </tr>\n",
       "    <tr>\n",
       "      <th>1</th>\n",
       "      <td>821040551</td>\n",
       "      <td>reporting</td>\n",
       "    </tr>\n",
       "    <tr>\n",
       "      <th>2</th>\n",
       "      <td>813552066</td>\n",
       "      <td>reporting</td>\n",
       "    </tr>\n",
       "    <tr>\n",
       "      <th>3</th>\n",
       "      <td>817176202</td>\n",
       "      <td>reporting</td>\n",
       "    </tr>\n",
       "    <tr>\n",
       "      <th>4</th>\n",
       "      <td>820419869</td>\n",
       "      <td>reporting</td>\n",
       "    </tr>\n",
       "  </tbody>\n",
       "</table>\n",
       "</div>"
      ],
      "text/plain": [
       "   article_id      label\n",
       "0   820791520  reporting\n",
       "1   821040551  reporting\n",
       "2   813552066  reporting\n",
       "3   817176202  reporting\n",
       "4   820419869  reporting"
      ]
     },
     "execution_count": 5,
     "metadata": {},
     "output_type": "execute_result"
    }
   ],
   "source": [
    "# read from the csv file /data/data/en/dev-labels-subtask-1.txt the label for the article\n",
    "\n",
    "def read_task1_label(path):\n",
    "    df = pd.read_csv(path, sep='\\t', header=None)\n",
    "    df.columns = ['article_id', 'label']\n",
    "    return df\n",
    "\n",
    "task1_df = read_task1_label(f\"../data/data/en/dev-labels-subtask-1.txt\")\n",
    "task1_df.head()"
   ]
  },
  {
   "cell_type": "code",
   "execution_count": 6,
   "metadata": {},
   "outputs": [
    {
     "data": {
      "text/plain": [
       "'reporting'"
      ]
     },
     "execution_count": 6,
     "metadata": {},
     "output_type": "execute_result"
    }
   ],
   "source": [
    "task1_df[task1_df['article_id'] == int(article_id)].label.values[0]"
   ]
  },
  {
   "cell_type": "markdown",
   "metadata": {},
   "source": [
    "## Visualize the data for subtask 2"
   ]
  },
  {
   "cell_type": "code",
   "execution_count": 7,
   "metadata": {},
   "outputs": [],
   "source": [
    "article_id = \"813452859\""
   ]
  },
  {
   "cell_type": "code",
   "execution_count": 8,
   "metadata": {},
   "outputs": [
    {
     "data": {
      "text/html": [
       "<div>\n",
       "<style scoped>\n",
       "    .dataframe tbody tr th:only-of-type {\n",
       "        vertical-align: middle;\n",
       "    }\n",
       "\n",
       "    .dataframe tbody tr th {\n",
       "        vertical-align: top;\n",
       "    }\n",
       "\n",
       "    .dataframe thead th {\n",
       "        text-align: right;\n",
       "    }\n",
       "</style>\n",
       "<table border=\"1\" class=\"dataframe\">\n",
       "  <thead>\n",
       "    <tr style=\"text-align: right;\">\n",
       "      <th></th>\n",
       "      <th>article_id</th>\n",
       "      <th>label</th>\n",
       "    </tr>\n",
       "  </thead>\n",
       "  <tbody>\n",
       "    <tr>\n",
       "      <th>0</th>\n",
       "      <td>820791520</td>\n",
       "      <td>Political,Fairness_and_equality,Policy_prescri...</td>\n",
       "    </tr>\n",
       "    <tr>\n",
       "      <th>1</th>\n",
       "      <td>821040551</td>\n",
       "      <td>Political,Capacity_and_resources,Policy_prescr...</td>\n",
       "    </tr>\n",
       "    <tr>\n",
       "      <th>2</th>\n",
       "      <td>813552066</td>\n",
       "      <td>Public_opinion,Policy_prescription_and_evaluat...</td>\n",
       "    </tr>\n",
       "    <tr>\n",
       "      <th>3</th>\n",
       "      <td>817176202</td>\n",
       "      <td>Political,External_regulation_and_reputation,P...</td>\n",
       "    </tr>\n",
       "    <tr>\n",
       "      <th>4</th>\n",
       "      <td>820419869</td>\n",
       "      <td>Public_opinion,Political,External_regulation_a...</td>\n",
       "    </tr>\n",
       "  </tbody>\n",
       "</table>\n",
       "</div>"
      ],
      "text/plain": [
       "   article_id                                              label\n",
       "0   820791520  Political,Fairness_and_equality,Policy_prescri...\n",
       "1   821040551  Political,Capacity_and_resources,Policy_prescr...\n",
       "2   813552066  Public_opinion,Policy_prescription_and_evaluat...\n",
       "3   817176202  Political,External_regulation_and_reputation,P...\n",
       "4   820419869  Public_opinion,Political,External_regulation_a..."
      ]
     },
     "execution_count": 8,
     "metadata": {},
     "output_type": "execute_result"
    }
   ],
   "source": [
    "# read the csv file /data/data/en/dev-labels-subtask-2.txt the label for the article\n",
    "\n",
    "def read_task2_label(path):\n",
    "    df = pd.read_csv(path, sep='\\t', header=None)\n",
    "    df.columns = ['article_id', 'label']\n",
    "    return df\n",
    "\n",
    "task2_df = read_task2_label(f\"../data/data/en/dev-labels-subtask-2.txt\")\n",
    "task2_df.head()"
   ]
  },
  {
   "cell_type": "code",
   "execution_count": 9,
   "metadata": {},
   "outputs": [
    {
     "data": {
      "text/plain": [
       "'Political,External_regulation_and_reputation,Policy_prescription_and_evaluation,Legality_Constitutionality_and_jurisprudence,Economic'"
      ]
     },
     "execution_count": 9,
     "metadata": {},
     "output_type": "execute_result"
    }
   ],
   "source": [
    "# get the label for the article\n",
    "task2_df[task2_df['article_id'] == int(article_id)].iloc[0]['label']"
   ]
  },
  {
   "cell_type": "markdown",
   "metadata": {},
   "source": [
    "## Visualize the data for subtask 3"
   ]
  },
  {
   "cell_type": "code",
   "execution_count": 14,
   "metadata": {},
   "outputs": [],
   "source": [
    "article_id = \"813452859\""
   ]
  },
  {
   "cell_type": "code",
   "execution_count": 15,
   "metadata": {},
   "outputs": [
    {
     "data": {
      "text/html": [
       "<div>\n",
       "<style scoped>\n",
       "    .dataframe tbody tr th:only-of-type {\n",
       "        vertical-align: middle;\n",
       "    }\n",
       "\n",
       "    .dataframe tbody tr th {\n",
       "        vertical-align: top;\n",
       "    }\n",
       "\n",
       "    .dataframe thead th {\n",
       "        text-align: right;\n",
       "    }\n",
       "</style>\n",
       "<table border=\"1\" class=\"dataframe\">\n",
       "  <thead>\n",
       "    <tr style=\"text-align: right;\">\n",
       "      <th></th>\n",
       "      <th>article_id</th>\n",
       "      <th>sentence_id</th>\n",
       "      <th>label</th>\n",
       "    </tr>\n",
       "  </thead>\n",
       "  <tbody>\n",
       "    <tr>\n",
       "      <th>0</th>\n",
       "      <td>813452859</td>\n",
       "      <td>1</td>\n",
       "      <td>NaN</td>\n",
       "    </tr>\n",
       "    <tr>\n",
       "      <th>1</th>\n",
       "      <td>813452859</td>\n",
       "      <td>3</td>\n",
       "      <td>NaN</td>\n",
       "    </tr>\n",
       "    <tr>\n",
       "      <th>2</th>\n",
       "      <td>813452859</td>\n",
       "      <td>4</td>\n",
       "      <td>NaN</td>\n",
       "    </tr>\n",
       "    <tr>\n",
       "      <th>3</th>\n",
       "      <td>813452859</td>\n",
       "      <td>5</td>\n",
       "      <td>NaN</td>\n",
       "    </tr>\n",
       "    <tr>\n",
       "      <th>4</th>\n",
       "      <td>813452859</td>\n",
       "      <td>6</td>\n",
       "      <td>NaN</td>\n",
       "    </tr>\n",
       "  </tbody>\n",
       "</table>\n",
       "</div>"
      ],
      "text/plain": [
       "   article_id  sentence_id label\n",
       "0   813452859            1   NaN\n",
       "1   813452859            3   NaN\n",
       "2   813452859            4   NaN\n",
       "3   813452859            5   NaN\n",
       "4   813452859            6   NaN"
      ]
     },
     "execution_count": 15,
     "metadata": {},
     "output_type": "execute_result"
    }
   ],
   "source": [
    "# read the csv file /data/data/en/dev-labels-subtask-3.txt the label for the article\n",
    "\n",
    "def read_task3_label(path):\n",
    "    df = pd.read_csv(path, sep='\\t', header=None)\n",
    "    df.columns = ['article_id', 'sentence_id', 'label']\n",
    "    return df\n",
    "\n",
    "task3_df = read_task3_label(f\"../data/data/en/dev-labels-subtask-3.txt\")\n",
    "task3_df.head()"
   ]
  },
  {
   "cell_type": "code",
   "execution_count": 16,
   "metadata": {},
   "outputs": [
    {
     "data": {
      "text/plain": [
       "0                                                   NaN\n",
       "1                                                   NaN\n",
       "2                                                   NaN\n",
       "3                                                   NaN\n",
       "4                                                   NaN\n",
       "5               False_Dilemma-No_Choice,Loaded_Language\n",
       "6                                                   NaN\n",
       "7     False_Dilemma-No_Choice,Loaded_Language,Name_C...\n",
       "8                                                   NaN\n",
       "9                                   Conversation_Killer\n",
       "10                      Conversation_Killer,Red_Herring\n",
       "11                                                  NaN\n",
       "12                                                  NaN\n",
       "13                      Obfuscation-Vagueness-Confusion\n",
       "14                                                  NaN\n",
       "15                                                  NaN\n",
       "16                                                  NaN\n",
       "17                      Obfuscation-Vagueness-Confusion\n",
       "18                                                  NaN\n",
       "Name: label, dtype: object"
      ]
     },
     "execution_count": 16,
     "metadata": {},
     "output_type": "execute_result"
    }
   ],
   "source": [
    "# get the label for the article\n",
    "task3_df[task3_df['article_id'] == int(article_id)]['label']"
   ]
  },
  {
   "cell_type": "code",
   "execution_count": 17,
   "metadata": {},
   "outputs": [
    {
     "name": "stdout",
     "output_type": "stream",
     "text": [
      "nan - With the Parliamentary vote on British Prime Minister Theresa May’s Brexit plan set to be held next month; President of the European Commission Jean Claude Juncker has criticised the UK’s preparations for their departure from the EU.\n",
      "\n",
      "nan - But is there any chance that May's deal will make it through parliament and if it fails, how could this ongoing political deadlock finally come to an end?\n",
      "\n",
      "nan - Sputnik spoke with political campaigner Michael Swadling for more…\n",
      "\n",
      "nan - Sputnik: Does Theresa May have any chance of getting her deal through Parliament on the 14th January?\n",
      "\n",
      "nan - Michael Swadling: I guess her only chance is if Labour decides that they want to dishonour democracy and effectively keep us in the EU.\n",
      "\n",
      "nan - © AP Photo / Pablo Martinez Monsivais UK 'In Need of Leadership', May's Brexit Deal Unwelcome to Trump - US Ambassador\n",
      "\n",
      "False_Dilemma-No_Choice,Loaded_Language - There is a chance; as unfortunately there are many MPs who don't respect the vote and may just turn on it, but short of that I don't see any way the Conservatives would vote for it, and the majority is slender as it is, as the DUP is bitterly against it, and I can't see the Lib Dems voting for it, so it will only be if there are enough, what I can describe as remoaner MPs, that the deal won't be dead in the water.\n",
      "\n",
      "nan - Sputnik: What could be a solution to the political chaos if the Prime Minister's deal is not approved?\n",
      "\n",
      "False_Dilemma-No_Choice,Loaded_Language,Name_Calling-Labeling - Michael Swadling: The EU withdrawal act is in place; we'll leave and revert to WTO terms and that works, that's fine.\n",
      "\n",
      "nan - I often use the example of an iPhone to people; that's a piece of technology which is manufactured in China, uses American technology and these are two countries we deal with on WTO terms, this isn't a fantasy, stuck in a port somewhere, there isn't a massive tariff, this is the world that really exists today.\n",
      "\n",
      "Conversation_Killer - When we exit the EU on WTO terms; that will be fine for whatever trading we do with the EU, just as well as it does for our trade in China.READ MORE: UK Finance Chief Bashed for Failing to Unlock Money for No-Deal Brexit — Reports\n",
      "\n",
      "Conversation_Killer,Red_Herring - Sputnik: Do you think that the EU needs the UK more than the UK needs the EU?\n",
      "\n",
      "nan - Michael Swadling: The EU makes a profit on its trade with the UK; the UK makes a loss on its trade with the EU.\n",
      "\n",
      "nan - They have a financial incentive to ensure that good trading relations continue far more than we do.\n",
      "\n",
      "Obfuscation-Vagueness-Confusion - © REUTERS / Toby Melville UK Trade Minister Says '50-50' Chance Brexit Will Not Happen – Reports\n",
      "\n",
      "nan - The lifeblood and cash flow that keeps manufacturing in Europe going, comes from the city of London.\n",
      "\n",
      "nan - If someone in a city in Germany wants to do a deal with someone in Japan; the financial services of that are probably going through the city of London, they're not going through Frankfurt and Paris.\n",
      "\n",
      "nan - Views and opinions, expressed in the article are those of Michael Swadling and do not necessarily reflect those of Sputnik\n",
      "\n",
      "Obfuscation-Vagueness-Confusion - \n",
      "\n"
     ]
    }
   ],
   "source": [
    "# each sentence id shows which sentence is meant by the label. Print out each sentence with label - sentence\n",
    "\n",
    "# take the content variable which has a list of the sentences and print out the sentence with the label\n",
    "\n",
    "def print_sentence_with_label(content, label):\n",
    "    for i, sentence in enumerate(content):\n",
    "        print(f\"{label[i-1]} - {sentence}\")\n",
    "\n",
    "print_sentence_with_label(content, task3_df[task3_df['article_id'] == int(article_id)]['label'].values)"
   ]
  },
  {
   "cell_type": "markdown",
   "metadata": {},
   "source": [
    "## Visualize the data for subtask 3 (span)"
   ]
  },
  {
   "cell_type": "code",
   "execution_count": 18,
   "metadata": {},
   "outputs": [],
   "source": [
    "article_id = \"813452859\""
   ]
  },
  {
   "cell_type": "code",
   "execution_count": 19,
   "metadata": {},
   "outputs": [
    {
     "data": {
      "text/html": [
       "<div>\n",
       "<style scoped>\n",
       "    .dataframe tbody tr th:only-of-type {\n",
       "        vertical-align: middle;\n",
       "    }\n",
       "\n",
       "    .dataframe tbody tr th {\n",
       "        vertical-align: top;\n",
       "    }\n",
       "\n",
       "    .dataframe thead th {\n",
       "        text-align: right;\n",
       "    }\n",
       "</style>\n",
       "<table border=\"1\" class=\"dataframe\">\n",
       "  <thead>\n",
       "    <tr style=\"text-align: right;\">\n",
       "      <th></th>\n",
       "      <th>article_id</th>\n",
       "      <th>label</th>\n",
       "      <th>start</th>\n",
       "      <th>end</th>\n",
       "    </tr>\n",
       "  </thead>\n",
       "  <tbody>\n",
       "    <tr>\n",
       "      <th>0</th>\n",
       "      <td>813452859</td>\n",
       "      <td>False_Dilemma-No_Choice</td>\n",
       "      <td>657</td>\n",
       "      <td>773</td>\n",
       "    </tr>\n",
       "    <tr>\n",
       "      <th>1</th>\n",
       "      <td>813452859</td>\n",
       "      <td>Loaded_Language</td>\n",
       "      <td>717</td>\n",
       "      <td>739</td>\n",
       "    </tr>\n",
       "    <tr>\n",
       "      <th>2</th>\n",
       "      <td>813452859</td>\n",
       "      <td>False_Dilemma-No_Choice</td>\n",
       "      <td>1019</td>\n",
       "      <td>1112</td>\n",
       "    </tr>\n",
       "    <tr>\n",
       "      <th>3</th>\n",
       "      <td>813452859</td>\n",
       "      <td>Loaded_Language</td>\n",
       "      <td>1128</td>\n",
       "      <td>1147</td>\n",
       "    </tr>\n",
       "    <tr>\n",
       "      <th>4</th>\n",
       "      <td>813452859</td>\n",
       "      <td>Name_Calling-Labeling</td>\n",
       "      <td>1256</td>\n",
       "      <td>1268</td>\n",
       "    </tr>\n",
       "  </tbody>\n",
       "</table>\n",
       "</div>"
      ],
      "text/plain": [
       "   article_id                    label  start   end\n",
       "0   813452859  False_Dilemma-No_Choice    657   773\n",
       "1   813452859          Loaded_Language    717   739\n",
       "2   813452859  False_Dilemma-No_Choice   1019  1112\n",
       "3   813452859          Loaded_Language   1128  1147\n",
       "4   813452859    Name_Calling-Labeling   1256  1268"
      ]
     },
     "execution_count": 19,
     "metadata": {},
     "output_type": "execute_result"
    }
   ],
   "source": [
    "# read the csv data\\data\\en\\dev-labels-subtask-3-spans\\article{aticle_id}-labels-subtask-3.txt the label for the article\n",
    "\n",
    "def read_task3_span_label(path):\n",
    "    df = pd.read_csv(path, sep='\\t', header=None)\n",
    "    df.columns = ['article_id', 'label', 'start', 'end']\n",
    "    return df\n",
    "\n",
    "task3_span_df = read_task3_span_label(f\"../data/data/en/dev-labels-subtask-3-spans/article{article_id}-labels-subtask-3.txt\")\n",
    "task3_span_df.head()"
   ]
  },
  {
   "cell_type": "code",
   "execution_count": 20,
   "metadata": {},
   "outputs": [
    {
     "data": {
      "text/html": [
       "<div>\n",
       "<style scoped>\n",
       "    .dataframe tbody tr th:only-of-type {\n",
       "        vertical-align: middle;\n",
       "    }\n",
       "\n",
       "    .dataframe tbody tr th {\n",
       "        vertical-align: top;\n",
       "    }\n",
       "\n",
       "    .dataframe thead th {\n",
       "        text-align: right;\n",
       "    }\n",
       "</style>\n",
       "<table border=\"1\" class=\"dataframe\">\n",
       "  <thead>\n",
       "    <tr style=\"text-align: right;\">\n",
       "      <th></th>\n",
       "      <th>article_id</th>\n",
       "      <th>label</th>\n",
       "      <th>start</th>\n",
       "      <th>end</th>\n",
       "    </tr>\n",
       "  </thead>\n",
       "  <tbody>\n",
       "    <tr>\n",
       "      <th>0</th>\n",
       "      <td>813452859</td>\n",
       "      <td>False_Dilemma-No_Choice</td>\n",
       "      <td>657</td>\n",
       "      <td>773</td>\n",
       "    </tr>\n",
       "    <tr>\n",
       "      <th>1</th>\n",
       "      <td>813452859</td>\n",
       "      <td>Loaded_Language</td>\n",
       "      <td>717</td>\n",
       "      <td>739</td>\n",
       "    </tr>\n",
       "    <tr>\n",
       "      <th>2</th>\n",
       "      <td>813452859</td>\n",
       "      <td>False_Dilemma-No_Choice</td>\n",
       "      <td>1019</td>\n",
       "      <td>1112</td>\n",
       "    </tr>\n",
       "    <tr>\n",
       "      <th>3</th>\n",
       "      <td>813452859</td>\n",
       "      <td>Loaded_Language</td>\n",
       "      <td>1128</td>\n",
       "      <td>1147</td>\n",
       "    </tr>\n",
       "    <tr>\n",
       "      <th>4</th>\n",
       "      <td>813452859</td>\n",
       "      <td>Name_Calling-Labeling</td>\n",
       "      <td>1256</td>\n",
       "      <td>1268</td>\n",
       "    </tr>\n",
       "    <tr>\n",
       "      <th>5</th>\n",
       "      <td>813452859</td>\n",
       "      <td>Loaded_Language</td>\n",
       "      <td>1293</td>\n",
       "      <td>1310</td>\n",
       "    </tr>\n",
       "    <tr>\n",
       "      <th>6</th>\n",
       "      <td>813452859</td>\n",
       "      <td>Conversation_Killer</td>\n",
       "      <td>1508</td>\n",
       "      <td>1531</td>\n",
       "    </tr>\n",
       "    <tr>\n",
       "      <th>7</th>\n",
       "      <td>813452859</td>\n",
       "      <td>Red_Herring</td>\n",
       "      <td>1581</td>\n",
       "      <td>1843</td>\n",
       "    </tr>\n",
       "    <tr>\n",
       "      <th>8</th>\n",
       "      <td>813452859</td>\n",
       "      <td>Conversation_Killer</td>\n",
       "      <td>1801</td>\n",
       "      <td>1843</td>\n",
       "    </tr>\n",
       "    <tr>\n",
       "      <th>9</th>\n",
       "      <td>813452859</td>\n",
       "      <td>Obfuscation-Vagueness-Confusion</td>\n",
       "      <td>2172</td>\n",
       "      <td>2264</td>\n",
       "    </tr>\n",
       "    <tr>\n",
       "      <th>10</th>\n",
       "      <td>813452859</td>\n",
       "      <td>Obfuscation-Vagueness-Confusion</td>\n",
       "      <td>2564</td>\n",
       "      <td>2761</td>\n",
       "    </tr>\n",
       "  </tbody>\n",
       "</table>\n",
       "</div>"
      ],
      "text/plain": [
       "    article_id                            label  start   end\n",
       "0    813452859          False_Dilemma-No_Choice    657   773\n",
       "1    813452859                  Loaded_Language    717   739\n",
       "2    813452859          False_Dilemma-No_Choice   1019  1112\n",
       "3    813452859                  Loaded_Language   1128  1147\n",
       "4    813452859            Name_Calling-Labeling   1256  1268\n",
       "5    813452859                  Loaded_Language   1293  1310\n",
       "6    813452859              Conversation_Killer   1508  1531\n",
       "7    813452859                      Red_Herring   1581  1843\n",
       "8    813452859              Conversation_Killer   1801  1843\n",
       "9    813452859  Obfuscation-Vagueness-Confusion   2172  2264\n",
       "10   813452859  Obfuscation-Vagueness-Confusion   2564  2761"
      ]
     },
     "execution_count": 20,
     "metadata": {},
     "output_type": "execute_result"
    }
   ],
   "source": [
    "# get the label for the article\n",
    "task3_span_df[task3_span_df['article_id'] == int(article_id)]"
   ]
  },
  {
   "cell_type": "code",
   "execution_count": 21,
   "metadata": {},
   "outputs": [],
   "source": [
    "# give each label a color, color the defined span in the content and give a legend where the colors are defined\n",
    "from IPython.display import Markdown, display\n",
    "# create a dict which defines each label with a color based on label name in task3_span_df\n",
    "\n",
    "def create_label_color_dict(df):\n",
    "    labels = df['label'].unique()\n",
    "    colors = sns.color_palette(\"hls\", len(labels))\n",
    "    return dict(zip(labels, colors))\n",
    "\n",
    "# take color_dict, text, label, start and end as function input and return colored text\n",
    "\n",
    "def color_text(color_dict, text, label, start, end):\n",
    "    color = color_dict[label]\n",
    "    colored_text = f\"<span style='color:rgb({int(color[0]*255)},{int(color[1]*255)},{int(color[2]*255)}'>{text[start:end]}</span>\"\n",
    "    display(Markdown(colored_text))\n",
    "\n",
    "# sample\n",
    "color_dict = create_label_color_dict(task3_span_df)\n"
   ]
  },
  {
   "cell_type": "code",
   "execution_count": 32,
   "metadata": {},
   "outputs": [],
   "source": [
    "from IPython.display import Markdown, display\n",
    "\n",
    "def display_colored_text(title, content, task3_span_df, article_id, color_dict, active_selection):\n",
    "    text = title + \" \" + \"\".join(content)\n",
    "    colored_spans = []\n",
    "\n",
    "    # Initialize a list to keep track of the span positions that have already been covered\n",
    "    covered_positions = []\n",
    "\n",
    "    # Iterate over the rows of the DataFrame and add the colored spans to the list\n",
    "    for index, row in task3_span_df[task3_span_df['article_id'] == int(article_id)].iterrows():\n",
    "        label = row['label']\n",
    "        start = row['start']\n",
    "        end = row['end']\n",
    "\n",
    "        # Check if this span overlaps with any previously covered span\n",
    "        overlap = any(start < end_prev and end > start_prev for start_prev, end_prev in covered_positions)\n",
    "\n",
    "        # If it doesn't overlap, process and add the colored span\n",
    "        if not overlap:\n",
    "            color = color_dict[label]\n",
    "            # Create a span with the appropriate color\n",
    "            colored_span = f\"<span style='color:rgb({int(color[0]*255)},{int(color[1]*255)},{int(color[2]*255)});'>{text[start:end]}</span>\"\n",
    "            colored_spans.append((start, end, colored_span))\n",
    "\n",
    "        # Add the span's positions to the list of covered positions\n",
    "        covered_positions.append((start, end))\n",
    "\n",
    "    # Sort the colored spans by their start position\n",
    "    colored_spans.sort(key=lambda x: x[0])\n",
    "\n",
    "    # Combine all the colored spans into a single string\n",
    "    colored_text = \"\"\n",
    "    current_position = 0\n",
    "\n",
    "    for start, end, span in colored_spans:\n",
    "        # Append the uncolored text between the current position and the start of the colored span\n",
    "        colored_text += text[current_position:start]\n",
    "        colored_text += span\n",
    "        current_position = end\n",
    "\n",
    "    # Append any remaining uncolored text\n",
    "    colored_text += text[current_position:]\n",
    "\n",
    "    # Display the colored text and legend\n",
    "    display(Markdown(colored_text))\n",
    "    display(Markdown(\"### Legend\"))\n",
    "    for label, color in color_dict.items():\n",
    "        display(Markdown(f\"<span style='color:rgb({int(color[0]*255)},{int(color[1]*255)},{int(color[2]*255)});'>{label}</span>\"))\n",
    "\n",
    "    # Display the active selection\n",
    "    if active_selection:\n",
    "        display(Markdown(\"### Active Selection\"))\n",
    "        display(active_selection)\n"
   ]
  },
  {
   "cell_type": "code",
   "execution_count": 33,
   "metadata": {},
   "outputs": [
    {
     "data": {
      "text/markdown": [
       "EU Profits From Trading With UK While London Loses Money – Political Campaigner\n",
       " With the Parliamentary vote on British Prime Minister Theresa May’s Brexit plan set to be held next month; President of the European Commission Jean Claude Juncker has criticised the UK’s preparations for their departure from the EU.\n",
       "But is there any chance that May's deal will make it through parliament and if it fails, how could this ongoing political deadlock finally come to an end?\n",
       "Sputnik spoke with political campaigner Michael Swadling for more…\n",
       "Sputnik: Does Theresa May have any chance of getting her deal through Parliament on the 14th January?\n",
       "Michael Swadling: <span style='color:rgb(219,94,86);'>I guess her only chance is if Labour decides that they want to dishonour democracy and effectively keep us in the EU</span>.\n",
       "© AP Photo / Pablo Martinez Monsivais UK 'In Need of Leadership', May's Brexit Deal Unwelcome to Trump - US Ambassador\n",
       "There is a chance; as unfortunately there are many MPs who don't respect the vote and may just turn on it, but short of that <span style='color:rgb(219,94,86);'>I don't see any way the Conservatives would vote for it, and the majority is slender as it is</span>, as the DUP is <span style='color:rgb(211,219,86);'>bitterly against it</span>, and I can't see the Lib Dems voting for it, so it will only be if there are enough, what I can describe as <span style='color:rgb(86,219,94);'>remoaner MPs</span>, that the deal won't be <span style='color:rgb(211,219,86);'>dead in the water</span>.\n",
       "Sputnik: What could be a solution to the political chaos if the Prime Minister's deal is not approved?\n",
       "Michael Swadling: The EU withdrawal act is in place; we'll leave and revert to WTO terms and <span style='color:rgb(86,211,219);'>that works, that's fine</span>.\n",
       "I often use the example of an iPhone to people; <span style='color:rgb(94,86,219);'>that's a piece of technology which is manufactured in China, uses American technology and these are two countries we deal with on WTO terms, this isn't a fantasy, stuck in a port somewhere, there isn't a massive tariff, this is the world that really exists today</span>.\n",
       "When we exit the EU on WTO terms; that will be fine for whatever trading we do with the EU, just as well as it does for our trade in China.READ MORE: UK Finance Chief Bashed for Failing to Unlock Money for No-Deal Brexit — Reports\n",
       "Sputnik: Do you think that the EU needs the UK more than the UK needs the EU?\n",
       "Michael Swadling: <span style='color:rgb(219,86,211);'>The EU makes a profit on its trade with the UK; the UK makes a loss on its trade with the EU</span>.\n",
       "They have a financial incentive to ensure that good trading relations continue far more than we do.\n",
       "© REUTERS / Toby Melville UK Trade Minister Says '50-50' Chance Brexit Will Not Happen – Reports\n",
       "The lifeblood and cash flow that keeps manufacturing in Europe going, comes from the city of London.\n",
       "<span style='color:rgb(219,86,211);'>If someone in a city in Germany wants to do a deal with someone in Japan; the financial services of that are probably going through the city of London, they're not going through Frankfurt and Paris</span>.\n",
       "Views and opinions, expressed in the article are those of Michael Swadling and do not necessarily reflect those of Sputnik\n",
       "\n"
      ],
      "text/plain": [
       "<IPython.core.display.Markdown object>"
      ]
     },
     "metadata": {},
     "output_type": "display_data"
    },
    {
     "data": {
      "text/markdown": [
       "### Legend"
      ],
      "text/plain": [
       "<IPython.core.display.Markdown object>"
      ]
     },
     "metadata": {},
     "output_type": "display_data"
    },
    {
     "data": {
      "text/markdown": [
       "<span style='color:rgb(219,94,86);'>False_Dilemma-No_Choice</span>"
      ],
      "text/plain": [
       "<IPython.core.display.Markdown object>"
      ]
     },
     "metadata": {},
     "output_type": "display_data"
    },
    {
     "data": {
      "text/markdown": [
       "<span style='color:rgb(211,219,86);'>Loaded_Language</span>"
      ],
      "text/plain": [
       "<IPython.core.display.Markdown object>"
      ]
     },
     "metadata": {},
     "output_type": "display_data"
    },
    {
     "data": {
      "text/markdown": [
       "<span style='color:rgb(86,219,94);'>Name_Calling-Labeling</span>"
      ],
      "text/plain": [
       "<IPython.core.display.Markdown object>"
      ]
     },
     "metadata": {},
     "output_type": "display_data"
    },
    {
     "data": {
      "text/markdown": [
       "<span style='color:rgb(86,211,219);'>Conversation_Killer</span>"
      ],
      "text/plain": [
       "<IPython.core.display.Markdown object>"
      ]
     },
     "metadata": {},
     "output_type": "display_data"
    },
    {
     "data": {
      "text/markdown": [
       "<span style='color:rgb(94,86,219);'>Red_Herring</span>"
      ],
      "text/plain": [
       "<IPython.core.display.Markdown object>"
      ]
     },
     "metadata": {},
     "output_type": "display_data"
    },
    {
     "data": {
      "text/markdown": [
       "<span style='color:rgb(219,86,211);'>Obfuscation-Vagueness-Confusion</span>"
      ],
      "text/plain": [
       "<IPython.core.display.Markdown object>"
      ]
     },
     "metadata": {},
     "output_type": "display_data"
    }
   ],
   "source": [
    "active_selection = None\n",
    "display_colored_text(title, content, task3_span_df, article_id, color_dict, active_selection)"
   ]
  },
  {
   "cell_type": "code",
   "execution_count": null,
   "metadata": {},
   "outputs": [],
   "source": []
  },
  {
   "cell_type": "code",
   "execution_count": null,
   "metadata": {},
   "outputs": [],
   "source": []
  }
 ],
 "metadata": {
  "kernelspec": {
   "display_name": "Python 3",
   "language": "python",
   "name": "python3"
  },
  "language_info": {
   "codemirror_mode": {
    "name": "ipython",
    "version": 3
   },
   "file_extension": ".py",
   "mimetype": "text/x-python",
   "name": "python",
   "nbconvert_exporter": "python",
   "pygments_lexer": "ipython3",
   "version": "3.10.11"
  },
  "orig_nbformat": 4
 },
 "nbformat": 4,
 "nbformat_minor": 2
}
